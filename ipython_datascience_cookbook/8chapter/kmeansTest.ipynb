{
 "cells": [
  {
   "cell_type": "code",
   "execution_count": 5,
   "metadata": {},
   "outputs": [],
   "source": [
    "import pandas as pd\n",
    "import numpy as np\n",
    "from sklearn.cluster import KMeans\n",
    "from sklearn import datasets\n",
    "import matplotlib.pyplot as plt\n",
    "import seaborn as sns\n",
    "%matplotlib inline\n",
    "\n",
    "custom_style = {'axes.labelcolor': 'black',\n",
    "                'xtick.color': 'black',\n",
    "                'ytick.color': 'black'}\n",
    "sns.set_style(\"darkgrid\", rc=custom_style)"
   ]
  },
  {
   "cell_type": "code",
   "execution_count": 36,
   "metadata": {},
   "outputs": [
    {
     "data": {
      "text/plain": [
       "[Text(0,0,'cluster0'),\n",
       " Text(0,0,'cluster1'),\n",
       " Text(0,0,'cluster2'),\n",
       " Text(0,0,'cluster3')]"
      ]
     },
     "execution_count": 36,
     "metadata": {},
     "output_type": "execute_result"
    },
    {
     "data": {
      "image/png": "[encoded data removed]",
      "text/plain": [
       "<matplotlib.figure.Figure at 0x10af61be0>"
      ]
     },
     "metadata": {},
     "output_type": "display_data"
    }
   ],
   "source": [
    "### [scikit-learn でクラスタ分析 (K-means 法) – Python でデータサイエンス](http://pythondatascience.plavox.info/scikit-learn/%E3%82%AF%E3%83%A9%E3%82%B9%E3%82%BF%E5%88%86%E6%9E%90-k-means)\n",
    "cust_df = pd.read_csv(\"http://pythondatascience.plavox.info/wp-content/uploads/2016/05/Wholesale_customers_data.csv\")\n",
    "del(cust_df['Channel'])\n",
    "del(cust_df['Region'])\n",
    "cust_df\n",
    "\n",
    "# convert from Pandas dataframe to Numpy Array\n",
    "cust_array = np.array([cust_df['Fresh'].tolist(),\n",
    "                      cust_df['Milk'].tolist(),\n",
    "                      cust_df['Grocery'].tolist(),\n",
    "                      cust_df['Frozen'].tolist(),\n",
    "                      cust_df['Detergents_Paper'].tolist(),\n",
    "                      cust_df['Delicassen'].tolist()\n",
    "                      ], np.int32)\n",
    "cust_array = cust_array.T\n",
    "\n",
    "pred = KMeans(n_clusters=4).fit_predict(cust_array)\n",
    "pred\n",
    "\n",
    "cust_df['cluster_id'] = pred\n",
    "cust_df['cluster_id'].value_counts()\n",
    "cust_df[cust_df['cluster_id']==0].mean()\n",
    "\n",
    "clusterinfo = pd.DataFrame()\n",
    "for i in range(4):\n",
    "    clusterinfo['cluster' + str(i)] = cust_df[cust_df['cluster_id'] == i].mean()\n",
    "clusterinfo = clusterinfo.drop('cluster_id')\n",
    "\n",
    "my_plot = clusterinfo.T.plot(kind='bar', stacked=False, title=\"Mean Value of 4 Clusters\")\n",
    "my_plot.set_xticklabels(my_plot.xaxis.get_majorticklabels(), rotation=0)"
   ]
  },
  {
   "cell_type": "code",
   "execution_count": 25,
   "metadata": {},
   "outputs": [
    {
     "ename": "TypeError",
     "evalue": "scatter() missing 1 required positional argument: 'y'",
     "output_type": "error",
     "traceback": [
      "\u001b[0;31m---------------------------------------------------------------------------\u001b[0m",
      "\u001b[0;31mTypeError\u001b[0m                                 Traceback (most recent call last)",
      "\u001b[0;32m<ipython-input-25-76c689ac7dc8>\u001b[0m in \u001b[0;36m<module>\u001b[0;34m()\u001b[0m\n\u001b[0;32m----> 1\u001b[0;31m \u001b[0mplt\u001b[0m\u001b[0;34m.\u001b[0m\u001b[0mscatter\u001b[0m\u001b[0;34m(\u001b[0m\u001b[0mpred\u001b[0m\u001b[0;34m)\u001b[0m\u001b[0;34m\u001b[0m\u001b[0m\n\u001b[0m",
      "\u001b[0;31mTypeError\u001b[0m: scatter() missing 1 required positional argument: 'y'"
     ]
    }
   ],
   "source": []
  }
 ],
 "metadata": {
  "kernelspec": {
   "display_name": "Python 3",
   "language": "python",
   "name": "python3"
  },
  "language_info": {
   "codemirror_mode": {
    "name": "ipython",
    "version": 3
   },
   "file_extension": ".py",
   "mimetype": "text/x-python",
   "name": "python",
   "nbconvert_exporter": "python",
   "pygments_lexer": "ipython3",
   "version": "3.6.0"
  }
 },
 "nbformat": 4,
 "nbformat_minor": 2
}
