{
 "cells": [
  {
   "cell_type": "code",
   "execution_count": 1,
   "metadata": {
    "collapsed": false
   },
   "outputs": [
    {
     "name": "stdout",
     "output_type": "stream",
     "text": [
      "Writing hoge.py\n"
     ]
    }
   ],
   "source": [
    "%%writefile hoge.py\n",
    "\n",
    "def sum(a, b):\n",
    "    return a + b\n",
    "\n",
    "def is_even(n):\n",
    "    return (n % 2 == 0)"
   ]
  },
  {
   "cell_type": "code",
   "execution_count": 5,
   "metadata": {
    "collapsed": false
   },
   "outputs": [
    {
     "name": "stdout",
     "output_type": "stream",
     "text": [
      "Overwriting test_hoge.py\n"
     ]
    }
   ],
   "source": [
    "%%writefile test_hoge.py\n",
    "\n",
    "from unittest import TestCase\n",
    "from nose.tools import ok_, eq_\n",
    "from hoge import sum, is_even\n",
    "\n",
    "class HogeTestCase(TestCase):\n",
    "    def setup(self):\n",
    "        print('before test')\n",
    "    def teardown(self):\n",
    "        print('after test')\n",
    "    def test_sum(self):\n",
    "        eq_(sum(1, 2), 3)\n",
    "        eq_(sum(5, 11), 16)\n",
    "        eq_(sum(0, 0), 0)\n",
    "    def test_is_even(self):\n",
    "        ok_(is_even(2))\n",
    "        ok_(not is_even(3))"
   ]
  },
  {
   "cell_type": "code",
   "execution_count": 10,
   "metadata": {
    "collapsed": false
   },
   "outputs": [
    {
     "name": "stdout",
     "output_type": "stream",
     "text": [
      "test_datautils.test_download1 ... test\n",
      "ok\n",
      "test_datautils.test_download2 ... ok\n",
      "test_is_even (test_hoge.HogeTestCase) ... ok\n",
      "test_sum (test_hoge.HogeTestCase) ... ok\n",
      "\n",
      "----------------------------------------------------------------------\n",
      "Ran 4 tests in 0.016s\n",
      "\n",
      "OK\n"
     ]
    }
   ],
   "source": [
    "!nosetests -s -v"
   ]
  }
 ],
 "metadata": {
  "kernelspec": {
   "display_name": "Python 3",
   "language": "python",
   "name": "python3"
  },
  "language_info": {
   "codemirror_mode": {
    "name": "ipython",
    "version": 3
   },
   "file_extension": ".py",
   "mimetype": "text/x-python",
   "name": "python",
   "nbconvert_exporter": "python",
   "pygments_lexer": "ipython3",
   "version": "3.6.0"
  }
 },
 "nbformat": 4,
 "nbformat_minor": 2
}
