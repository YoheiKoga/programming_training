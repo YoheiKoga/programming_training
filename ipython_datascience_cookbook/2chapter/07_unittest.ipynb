{
 "cells": [
  {
   "cell_type": "code",
   "execution_count": 17,
   "metadata": {
    "collapsed": false
   },
   "outputs": [
    {
     "name": "stdout",
     "output_type": "stream",
     "text": [
      "Overwriting datautils.py\n"
     ]
    }
   ],
   "source": [
    "%%writefile datautils.py\n",
    "# version1\n",
    "import os\n",
    "from urllib.request import urlopen\n",
    "\n",
    "def download(url):\n",
    "    \"\"\"Download a file and save it in the current folder.\n",
    "    Return the name of the downloaded file.\"\"\"\n",
    "    # Get the filename.\n",
    "    file = os.path.basename(url)\n",
    "    # fix the bug, by specifying a fixed filename if the URL\n",
    "    if not file:\n",
    "        file = 'downloaded'\n",
    "    # Download the file unless it already exists.\n",
    "    if not os.path.exists(file):\n",
    "        with open(file, 'w') as f:\n",
    "            f.write(urlopen(url).read())\n",
    "    return file"
   ]
  },
  {
   "cell_type": "code",
   "execution_count": 19,
   "metadata": {
    "collapsed": false
   },
   "outputs": [
    {
     "name": "stdout",
     "output_type": "stream",
     "text": [
      "Overwriting test_datautils.py\n"
     ]
    }
   ],
   "source": [
    "%%writefile test_datautils.py\n",
    "from urllib.request import (HTTPHandler, install_opener, build_opener, addinfourl)\n",
    "import os\n",
    "import shutil\n",
    "import tempfile\n",
    "from io import StringIO\n",
    "from datautils import download\n",
    "\n",
    "TEST_FOLDER = tempfile.mkdtemp()\n",
    "ORIGINAL_FOLDER = os.getcwd()\n",
    "\n",
    "class TestHTTPHandler(HTTPHandler):\n",
    "    \"\"\"Mock HTTP handler.\"\"\"\n",
    "    def http_open(self, req):\n",
    "        resp = addinfourl(StringIO('test'), '', req.get_full_url(), 200)\n",
    "        resp.msg = 'OK'\n",
    "        return resp\n",
    "\n",
    "def setup():\n",
    "    \"\"\"install the mock HTTP handler for unit tests.\"\"\"\n",
    "    install_opener(build_opener(TestHTTPHandler))\n",
    "    os.chdir(TEST_FOLDER)\n",
    "    \n",
    "def teardown():\n",
    "    \"\"\"Restore the normal HTTP handler.\"\"\"\n",
    "    install_opener(build_opener(HTTPHandler))\n",
    "    # go back to the original folder.\n",
    "    os.chdir(ORIGINAL_FOLDER)\n",
    "    # delete the test folder.\n",
    "    shutil.rmtree(TEST_FOLDER)\n",
    "\n",
    "\n",
    "def test_download1():\n",
    "    file = download(\"http://example.com/file.txt\")\n",
    "    # check that the file has been downloaded.\n",
    "    assert os.path.exists(file)\n",
    "    # check that the file contains the contents of the remote file\n",
    "    with open(file, 'r') as f:\n",
    "        contents = f.read()\n",
    "    print(contents)\n",
    "    assert contents == 'test'"
   ]
  },
  {
   "cell_type": "code",
   "execution_count": 12,
   "metadata": {
    "collapsed": false
   },
   "outputs": [
    {
     "name": "stdout",
     "output_type": "stream",
     "text": [
      ".\n",
      "----------------------------------------------------------------------\n",
      "Ran 1 test in 0.011s\n",
      "\n",
      "OK\n"
     ]
    }
   ],
   "source": [
    "!nosetests"
   ]
  },
  {
   "cell_type": "code",
   "execution_count": 20,
   "metadata": {
    "collapsed": false
   },
   "outputs": [
    {
     "name": "stdout",
     "output_type": "stream",
     "text": [
      "Appending to test_datautils.py\n"
     ]
    }
   ],
   "source": [
    "%%writefile test_datautils.py -a\n",
    "\n",
    "def test_download2():\n",
    "    file = download(\"http://example.com/\")\n",
    "    assert os.path.exists(file)"
   ]
  },
  {
   "cell_type": "code",
   "execution_count": 21,
   "metadata": {
    "collapsed": false
   },
   "outputs": [
    {
     "name": "stdout",
     "output_type": "stream",
     "text": [
      "..\r\n",
      "----------------------------------------------------------------------\r\n",
      "Ran 2 tests in 0.014s\r\n",
      "\r\n",
      "OK\r\n"
     ]
    }
   ],
   "source": [
    "!nosetests"
   ]
  }
 ],
 "metadata": {
  "kernelspec": {
   "display_name": "Python 3",
   "language": "python",
   "name": "python3"
  },
  "language_info": {
   "codemirror_mode": {
    "name": "ipython",
    "version": 3
   },
   "file_extension": ".py",
   "mimetype": "text/x-python",
   "name": "python",
   "nbconvert_exporter": "python",
   "pygments_lexer": "ipython3",
   "version": "3.6.0"
  }
 },
 "nbformat": 4,
 "nbformat_minor": 2
}
