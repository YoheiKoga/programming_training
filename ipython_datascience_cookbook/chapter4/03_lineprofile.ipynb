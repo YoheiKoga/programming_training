{
 "cells": [
  {
   "cell_type": "code",
   "execution_count": 1,
   "metadata": {
    "collapsed": true
   },
   "outputs": [],
   "source": [
    "import numpy as np\n",
    "%load_ext line_profiler"
   ]
  },
  {
   "cell_type": "code",
   "execution_count": 2,
   "metadata": {
    "collapsed": false
   },
   "outputs": [
    {
     "name": "stdout",
     "output_type": "stream",
     "text": [
      "Writing simulation.py\n"
     ]
    }
   ],
   "source": [
    "%%writefile simulation.py\n",
    "import numpy as np\n",
    "\n",
    "def step(*shape):\n",
    "    return 2*(np.random.random_sample(shape) <.5) - 1\n",
    "\n",
    "def simulate(iterations, n=10000):\n",
    "    s = step(iterations, n)\n",
    "    x = np.cumsum(s, axis=0)\n",
    "    bins = np.arange(-30, 30, 1)\n",
    "    y = np.vstack([np.histogram(x[i,:], bins)[0] for i in range(iterations)])\n",
    "    return y"
   ]
  },
  {
   "cell_type": "code",
   "execution_count": 3,
   "metadata": {
    "collapsed": true
   },
   "outputs": [],
   "source": [
    "import simulation"
   ]
  },
  {
   "cell_type": "code",
   "execution_count": 4,
   "metadata": {
    "collapsed": false
   },
   "outputs": [
    {
     "name": "stdout",
     "output_type": "stream",
     "text": [
      "\n",
      "*** Profile printout saved to text file 'lprof0'. \n"
     ]
    }
   ],
   "source": [
    "%lprun -T lprof0 -f simulation.simulate simulation.simulate(50)"
   ]
  },
  {
   "cell_type": "code",
   "execution_count": 6,
   "metadata": {
    "collapsed": false
   },
   "outputs": [
    {
     "name": "stdout",
     "output_type": "stream",
     "text": [
      "Timer unit: 1e-06 s\n",
      "\n",
      "Total time: 0.030345 s\n",
      "File: /Users/yk/programming/python/jupyternotebook/ipython_datascience_cookbook/chapter4/simulation.py\n",
      "Function: simulate at line 6\n",
      "\n",
      "Line #      Hits         Time  Per Hit   % Time  Line Contents\n",
      "==============================================================\n",
      "     6                                           def simulate(iterations, n=10000):\n",
      "     7         1        10295  10295.0     33.9      s = step(iterations, n)\n",
      "     8         1         1219   1219.0      4.0      x = np.cumsum(s, axis=0)\n",
      "     9         1           19     19.0      0.1      bins = np.arange(-30, 30, 1)\n",
      "    10         1        18811  18811.0     62.0      y = np.vstack([np.histogram(x[i,:], bins)[0] for i in range(iterations)])\n",
      "    11         1            1      1.0      0.0      return y\n"
     ]
    }
   ],
   "source": [
    "print(open('lprof0', 'r').read())"
   ]
  },
  {
   "cell_type": "code",
   "execution_count": 7,
   "metadata": {
    "collapsed": false
   },
   "outputs": [
    {
     "name": "stdout",
     "output_type": "stream",
     "text": [
      "\n",
      "*** Profile printout saved to text file 'lprof1'. \n"
     ]
    }
   ],
   "source": [
    "%lprun -T lprof1 -f simulation.simulate simulation.simulate(iterations=500)"
   ]
  },
  {
   "cell_type": "code",
   "execution_count": 8,
   "metadata": {
    "collapsed": false
   },
   "outputs": [
    {
     "name": "stdout",
     "output_type": "stream",
     "text": [
      "Timer unit: 1e-06 s\n",
      "\n",
      "Total time: 0.355586 s\n",
      "File: /Users/yk/programming/python/jupyternotebook/ipython_datascience_cookbook/chapter4/simulation.py\n",
      "Function: simulate at line 6\n",
      "\n",
      "Line #      Hits         Time  Per Hit   % Time  Line Contents\n",
      "==============================================================\n",
      "     6                                           def simulate(iterations, n=10000):\n",
      "     7         1       109724 109724.0     30.9      s = step(iterations, n)\n",
      "     8         1        34732  34732.0      9.8      x = np.cumsum(s, axis=0)\n",
      "     9         1           13     13.0      0.0      bins = np.arange(-30, 30, 1)\n",
      "    10         1       211115 211115.0     59.4      y = np.vstack([np.histogram(x[i,:], bins)[0] for i in range(iterations)])\n",
      "    11         1            2      2.0      0.0      return y\n"
     ]
    }
   ],
   "source": [
    "print(open('lprof1', 'r').read())"
   ]
  }
 ],
 "metadata": {
  "kernelspec": {
   "display_name": "Python 3",
   "language": "python",
   "name": "python3"
  },
  "language_info": {
   "codemirror_mode": {
    "name": "ipython",
    "version": 3
   },
   "file_extension": ".py",
   "mimetype": "text/x-python",
   "name": "python",
   "nbconvert_exporter": "python",
   "pygments_lexer": "ipython3",
   "version": "3.6.0"
  }
 },
 "nbformat": 4,
 "nbformat_minor": 2
}
