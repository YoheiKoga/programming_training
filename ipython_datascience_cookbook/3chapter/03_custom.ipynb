{
 "cells": [
  {
   "cell_type": "code",
   "execution_count": 1,
   "metadata": {
    "collapsed": false
   },
   "outputs": [
    {
     "data": {
      "application/javascript": [
       "\n",
       "Jupyter.toolbar.add_buttons_group([\n",
       "{\n",
       "    // the buttons label\n",
       "    'label': 'renumber all code cells',\n",
       "    \n",
       "    // the buttons icon\n",
       "    // see a list of Font-Awesom icons\n",
       "    'icon': 'fa-list-ol',  // 'icon-list-ol' for older IPython\n",
       "    \n",
       "    // the callback function\n",
       "    'callback': function() {\n",
       "        \n",
       "        // we retrieve the lists of all cells\n",
       "        var cells = Jupyter.notebook.get_cells();\n",
       "        \n",
       "        // we only keep the code cells\n",
       "        cells = cells.filter(function(c) {\n",
       "            return c instanceof Jupyter.CodeCell;\n",
       "        })\n",
       "        // we set the input prompt of all code cells.\n",
       "        for (var i = 0; i < cells.length; i++) {\n",
       "            cells[i].set_input_prompt(i+1);\n",
       "        }\n",
       "    }\n",
       "}]);"
      ],
      "text/plain": [
       "<IPython.core.display.Javascript object>"
      ]
     },
     "metadata": {},
     "output_type": "display_data"
    }
   ],
   "source": [
    "%%javascript\n",
    "\n",
    "Jupyter.toolbar.add_buttons_group([\n",
    "{\n",
    "    // the buttons label\n",
    "    'label': 'renumber all code cells',\n",
    "    \n",
    "    // the buttons icon\n",
    "    // see a list of Font-Awesom icons\n",
    "    'icon': 'fa-list-ol',  // 'icon-list-ol' for older IPython\n",
    "    \n",
    "    // the callback function\n",
    "    'callback': function() {\n",
    "        \n",
    "        // we retrieve the lists of all cells\n",
    "        var cells = Jupyter.notebook.get_cells();\n",
    "        \n",
    "        // we only keep the code cells\n",
    "        cells = cells.filter(function(c) {\n",
    "            return c instanceof Jupyter.CodeCell;\n",
    "        })\n",
    "        // we set the input prompt of all code cells.\n",
    "        for (var i = 0; i < cells.length; i++) {\n",
    "            cells[i].set_input_prompt(i+1);\n",
    "        }\n",
    "    }\n",
    "}]);"
   ]
  }
 ],
 "metadata": {
  "kernelspec": {
   "display_name": "Python 3",
   "language": "python",
   "name": "python3"
  },
  "language_info": {
   "codemirror_mode": {
    "name": "ipython",
    "version": 3
   },
   "file_extension": ".py",
   "mimetype": "text/x-python",
   "name": "python",
   "nbconvert_exporter": "python",
   "pygments_lexer": "ipython3",
   "version": "3.6.0"
  }
 },
 "nbformat": 4,
 "nbformat_minor": 2
}
