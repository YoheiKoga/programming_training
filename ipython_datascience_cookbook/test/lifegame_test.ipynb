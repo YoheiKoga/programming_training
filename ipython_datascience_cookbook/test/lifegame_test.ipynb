{
 "cells": [
  {
   "cell_type": "code",
   "execution_count": 42,
   "metadata": {},
   "outputs": [
    {
     "data": {
      "text/html": [
       "<style>\n",
       "div.text_cell_render{\n",
       "    background-color: #efe;\n",
       "    }\n",
       ".rendered_html code {\n",
       "    background-color: #efe;\n",
       "    color: #900;\n",
       "}\n",
       ".rendered_html pre {\n",
       "    background-color: #efe;\n",
       "    color: #900;\n",
       "}\n",
       ".rendered_html hr {\n",
       "height:6px;\n",
       "border:none;\n",
       "background-color: #f00;\n",
       "} \n",
       ".rendered_html h2 {margin-left: 1em; color: purple;  text-align:left; padding-top: 0.5em; }\n",
       ".rendered_html h3 {margin-left: 2em; color: olive;  text-align:left; padding-top: 0.5em; }\n",
       ".rendered_html h4 {margin-left: 3em; color: teal;  text-align:left; padding-top: 0.5em; }\n",
       "</style>\n"
      ],
      "text/plain": [
       "<IPython.core.display.HTML object>"
      ]
     },
     "execution_count": 42,
     "metadata": {},
     "output_type": "execute_result"
    }
   ],
   "source": [
    "# [Notebook :: Anaconda Cloud](https://anaconda.org/bfiedler/n020_conwaygameoflife/notebook)\n",
    "\n",
    "import numpy as np\n",
    "import matplotlib.pyplot as plt\n",
    "from IPython.display import display, clear_output\n",
    "from IPython.core.display import HTML\n",
    "import time as Time\n",
    "import math\n",
    "import matplotlib.animation as animation\n",
    "import urllib.request\n",
    "import seaborn as sns\n",
    "%matplotlib inline\n",
    "\n",
    "custom_style = {'axes.labelcolor': 'white',\n",
    "                'xtick.color': 'white',\n",
    "                'ytick.color': 'white'}\n",
    "sns.set_style(\"darkgrid\", rc=custom_style)\n",
    "\n",
    "HTML(urllib.request.urlopen('https://anaconda.org/bfiedler/data/1/download/metr4323.css').read().decode())\n"
   ]
  },
  {
   "cell_type": "code",
   "execution_count": 63,
   "metadata": {},
   "outputs": [
    {
     "name": "stdout",
     "output_type": "stream",
     "text": [
      "apply periodic\n"
     ]
    }
   ],
   "source": [
    "def periodic(a):\n",
    "    a[0,:] = a[-2,:]\n",
    "    a[-1,:] = a[1,:]\n",
    "    a[:,0] = a[:,-2]\n",
    "    a[:,-1] = a[:,1]\n",
    "\n",
    "def slowstep(b):\n",
    "    I, J = b.shape\n",
    "    s = b.copy()\n",
    "    for i in range(1, I-1):\n",
    "        for j in range(1, J-1):\n",
    "            n = (b[i+1, j-1] + b[i+1, j] + b[i+1, j+1] +\n",
    "                    b[i, j-1] +               b[i, j+1]  +\n",
    "                    b[i-1, j-1] + b[i-1, j] + b[i-1, j+1])\n",
    "            if b[i,j] == 1 and (n < 2 or n > 3):\n",
    "                s[i,j] = 0\n",
    "            elif b[i,j] == 0 and n == 3:\n",
    "                s[i,j] = 1\n",
    "    b[:,:] = s\n",
    "                \n",
    "def neighbors(b):\n",
    "    return (b[2:,:-2] + b[2:, 1:-1] + b[2:, 2:] +\n",
    "            b[1:-1, :-2] +              b[1:-1, 2:] +\n",
    "            b[:-2, :-2] + b[:-2, 1:-1] + b[:-2, 2:]\n",
    "           )\n",
    "\n",
    "def faststep(b):\n",
    "    n = neighbors(b)\n",
    "    b[1:-1, 1:-1] = np.where(np.logical_or(n==3, np.logical_and(b[1:-1, 1:-1], n==2)), 1, 0)\n",
    "        \n",
    "        \n",
    "glider = np.array([[1,0,0], [0,1,1], [1,1,0]])\n",
    "\n",
    "N = 10\n",
    "init_choice = 1\n",
    "enforce_periodic = True\n",
    "\n",
    "c = np.zeros((N, N), dtype=int)\n",
    "\n",
    "if init_choice == 0:\n",
    "    c[1:-1, 1:-1] = np.random.choice((1,0), (N-2)**2, p=(0.3, 0.7)).reshape((N-2, N-2))\n",
    "\n",
    "elif init_choice == 1:\n",
    "    c[1:4, 1:4] = glider\n",
    "    \n",
    "elif init_choice == 2:\n",
    "    print(\"not implemented yet\")\n",
    "    \n",
    "# print(c)\n",
    "# print()\n",
    "\n",
    "if enforce_periodic:\n",
    "    periodic(c)\n",
    "    print(\"apply periodic\")\n",
    "#     print(c)\n",
    "    \n",
    "# myfig, myaxis = plt.subplots(figsize=(6,6))\n",
    "# myaxis.axis('off')\n",
    "# plt.title('showing whole computational domain')\n",
    "# myaxis.imshow(c, interpolation=\"nearest\")"
   ]
  },
  {
   "cell_type": "code",
   "execution_count": 60,
   "metadata": {},
   "outputs": [],
   "source": [
    "# q = c[1:-1, 1:-1]\n",
    "# myfig, myaxis = plt.subplots(figsize=(6,6))\n",
    "# myaxis.axis('off')\n",
    "# plt.title('showing one tile')\n",
    "\n",
    "# myaxis.imshow(q, interpolation=\"nearest\")"
   ]
  },
  {
   "cell_type": "code",
   "execution_count": 59,
   "metadata": {},
   "outputs": [
    {
     "name": "stdout",
     "output_type": "stream",
     "text": [
      "[[0 0 0 0 0 0 0 0 0 0]\n",
      " [0 1 0 0 0 0 0 0 0 1]\n",
      " [0 0 1 1 0 0 0 0 0 0]\n",
      " [0 1 1 0 0 0 0 0 0 1]\n",
      " [0 0 0 0 0 0 0 0 0 0]\n",
      " [0 0 0 0 0 0 0 0 0 0]\n",
      " [0 0 0 0 0 0 0 0 0 0]\n",
      " [0 0 0 0 0 0 0 0 0 0]\n",
      " [0 0 0 0 0 0 0 0 0 0]\n",
      " [0 1 0 0 0 0 0 0 0 1]]\n",
      "[[1 3 2 1 0 0 0 1]\n",
      " [4 4 2 1 0 0 0 2]\n",
      " [2 3 3 1 0 0 0 1]\n",
      " [2 2 1 0 0 0 0 1]\n",
      " [0 0 0 0 0 0 0 0]\n",
      " [0 0 0 0 0 0 0 0]\n",
      " [0 0 0 0 0 0 0 0]\n",
      " [1 1 0 0 0 0 0 1]]\n"
     ]
    }
   ],
   "source": [
    "# print(c)\n",
    "# print(neighbors(c))"
   ]
  },
  {
   "cell_type": "code",
   "execution_count": 68,
   "metadata": {},
   "outputs": [
    {
     "data": {
      "image/png": "[encoded data removed]",
      "text/plain": [
       "<matplotlib.figure.Figure at 0x11370ee48>"
      ]
     },
     "metadata": {},
     "output_type": "display_data"
    }
   ],
   "source": [
    "nsteps = 40\n",
    "step_type = 1\n",
    "myfig, myaxis = plt.subplots(figsize=(6, 6))\n",
    "myaxis.axis('off')\n",
    "count=0\n",
    "while count < nsteps:\n",
    "    if step_type == 1:\n",
    "        faststep(c)\n",
    "    elif step_type == 0:\n",
    "        slowstep(c)\n",
    "    else:\n",
    "        print(\"not implemented yet\")\n",
    "    if enforce_periodic: periodic(c)\n",
    "    \n",
    "    myaxis.clear()\n",
    "    myaxis.imshow(c[1:-1, 1:-1], interpolation=\"nearest\")\n",
    "    myaxis.text(.0, -0.6, '{0:d}'.format(count), fontsize=22)\n",
    "    myaxis.axis(\"off\")\n",
    "    \n",
    "    clear_output(wait=True)\n",
    "    display(myfig)\n",
    "    Time.sleep(0.1)\n",
    "    \n",
    "    count += 1\n",
    "plt.close()"
   ]
  },
  {
   "cell_type": "code",
   "execution_count": 64,
   "metadata": {},
   "outputs": [],
   "source": [
    "# a = np.array([[1,2,3,4], [5,6,7,8]])\n",
    "\n",
    "# print(\"a[0,:]= \",a[0,:])\n",
    "# print(\"a[-2,:]= \",a[-2,:])\n",
    "# print(\"a[-1,:]= \",a[-1,:])\n",
    "# print(\"a[1,:]= \",a[1,:])\n",
    "# print(\"a[:,0]= \",a[:,0])\n",
    "# print(\"a[:,-2]= \",a[:,-2])\n",
    "# print(\"a[:,-1]= \",a[:,-1])\n",
    "# print(\"a[:,1]= \",a[:,1])\n",
    "\n",
    "\n",
    "# print(a)\n",
    "# periodic(a)\n",
    "# print(a)"
   ]
  },
  {
   "cell_type": "code",
   "execution_count": 65,
   "metadata": {},
   "outputs": [],
   "source": [
    "# a = np.array([[1,2,3,4], [5,6,7,8], [9,10,11,12], [13,14,15,16]])\n",
    "\n",
    "# print(\"a[0,:]= \",a[0,:])\n",
    "# print(\"a[-2,:]= \",a[-2,:])\n",
    "# print(\"a[-1,:]= \",a[-1,:])\n",
    "# print(\"a[1,:]= \",a[1,:])\n",
    "# print(\"a[:,0]= \",a[:,0])\n",
    "# print(\"a[:,-2]= \",a[:,-2])\n",
    "# print(\"a[:,-1]= \",a[:,-1])\n",
    "# print(\"a[:,1]= \",a[:,1])\n",
    "\n",
    "\n",
    "# print(a)\n",
    "# periodic(a)\n",
    "# print(a)"
   ]
  }
 ],
 "metadata": {
  "kernelspec": {
   "display_name": "Python 3",
   "language": "python",
   "name": "python3"
  },
  "language_info": {
   "codemirror_mode": {
    "name": "ipython",
    "version": 3
   },
   "file_extension": ".py",
   "mimetype": "text/x-python",
   "name": "python",
   "nbconvert_exporter": "python",
   "pygments_lexer": "ipython3",
   "version": "3.6.0"
  }
 },
 "nbformat": 4,
 "nbformat_minor": 2
}
