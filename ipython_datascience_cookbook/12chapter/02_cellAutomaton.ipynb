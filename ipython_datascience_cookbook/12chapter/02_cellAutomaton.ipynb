{
 "cells": [
  {
   "cell_type": "code",
   "execution_count": 4,
   "metadata": {
    "collapsed": true
   },
   "outputs": [],
   "source": [
    "import numpy as np\n",
    "import matplotlib.pyplot as plt\n",
    "import seaborn as sns\n",
    "%matplotlib inline\n",
    "\n",
    "custom_style = {'axes.labelcolor': 'black',\n",
    "                'xtick.color': 'black',\n",
    "                'ytick.color': 'black'}\n",
    "sns.set_style(\"darkgrid\", rc=custom_style)"
   ]
  },
  {
   "cell_type": "code",
   "execution_count": 5,
   "metadata": {
    "collapsed": true
   },
   "outputs": [],
   "source": [
    "# use for getting binary representation\n",
    "u = np.array([[4], [2], [1]])\n",
    "\n",
    "def step(x, rule_binary):\n",
    "    # compute a single stet of an elementary cellular automaton\n",
    "    \n",
    "    # the columns contain the L, C, R values of all cells\n",
    "    y = np.vstack((np.roll(x, 1), x, np.roll(x, -1))).astype(np.int8)\n",
    "    \n",
    "    # we get the LCR pattern numbers between 0 and 7\n",
    "    z = np.sum(y * u, axis=0).astype(np.int8)\n",
    "    \n",
    "    # we get the patterns given by the rule\n",
    "    return rule_binary[7-z]\n",
    "\n",
    "def generate(rule, size=80, steps=80):\n",
    "    # simulate an elementary cellular automaton given its rule (number between 0 and 255)\n",
    "    \n",
    "    # compute the binary representation of the rule\n",
    "    rule_binary = np.array(\n",
    "        [int(x) for x in np.binary_repr(rule, 8)],\n",
    "        dtype=np.int8\n",
    "    )\n",
    "    x = np.zeros((steps, size), dtype=np.int8)\n",
    "    # random initial state\n",
    "    x[0,:] = np.random.rand(size) < .5\n",
    "    # apply the step function iteratively\n",
    "    for i in range(steps-1):\n",
    "        x[i+1, :] = step(x[i, :], rule_binary)\n",
    "    return x\n",
    "\n"
   ]
  },
  {
   "cell_type": "code",
   "execution_count": 6,
   "metadata": {},
   "outputs": [
    {
     "data": {
      "image/png": "[encoded data removed]",
      "text/plain": [
       "<matplotlib.figure.Figure at 0x107b46198>"
      ]
     },
     "metadata": {},
     "output_type": "display_data"
    },
    {
     "data": {
      "image/png": "[encoded data removed]",
      "text/plain": [
       "<matplotlib.figure.Figure at 0x107bad9e8>"
      ]
     },
     "metadata": {},
     "output_type": "display_data"
    },
    {
     "data": {
      "image/png": "[encoded data removed]",
      "text/plain": [
       "<matplotlib.figure.Figure at 0x107bec4e0>"
      ]
     },
     "metadata": {},
     "output_type": "display_data"
    },
    {
     "data": {
      "image/png": "[encoded data removed]",
      "text/plain": [
       "<matplotlib.figure.Figure at 0x107c2c0b8>"
      ]
     },
     "metadata": {},
     "output_type": "display_data"
    },
    {
     "data": {
      "image/png": "[encoded data removed]",
      "text/plain": [
       "<matplotlib.figure.Figure at 0x107c5f898>"
      ]
     },
     "metadata": {},
     "output_type": "display_data"
    },
    {
     "data": {
      "image/png": "[encoded data removed]",
      "text/plain": [
       "<matplotlib.figure.Figure at 0x107c9f668>"
      ]
     },
     "metadata": {},
     "output_type": "display_data"
    },
    {
     "data": {
      "image/png": "[encoded data removed]",
      "text/plain": [
       "<matplotlib.figure.Figure at 0x107cdf320>"
      ]
     },
     "metadata": {},
     "output_type": "display_data"
    },
    {
     "data": {
      "image/png": "[encoded data removed]",
      "text/plain": [
       "<matplotlib.figure.Figure at 0x107d20048>"
      ]
     },
     "metadata": {},
     "output_type": "display_data"
    },
    {
     "data": {
      "image/png": "[encoded data removed]",
      "text/plain": [
       "<matplotlib.figure.Figure at 0x107d545c0>"
      ]
     },
     "metadata": {},
     "output_type": "display_data"
    }
   ],
   "source": [
    "rules = [ 1, 2, 3,\n",
    "          4, 5, 6,\n",
    "          7, 8, 9\n",
    "        ]\n",
    "\n",
    "for i, rule in enumerate(rules):\n",
    "    x = generate(rule, size=40, steps=40)\n",
    "    plt.figure(figsize=(10,10))\n",
    "    plt.subplot(331+i)\n",
    "    plt.imshow(x, interpolation='none', cmap=plt.cm.binary)\n",
    "    plt.xticks([])\n",
    "    plt.yticks([])\n",
    "    plt.title(str(rule))"
   ]
  },
  {
   "cell_type": "code",
   "execution_count": 7,
   "metadata": {},
   "outputs": [
    {
     "data": {
      "text/plain": [
       "Text(0.5,1,'9')"
      ]
     },
     "execution_count": 7,
     "metadata": {},
     "output_type": "execute_result"
    },
    {
     "data": {
      "image/png": "[encoded data removed]",
      "text/plain": [
       "<matplotlib.figure.Figure at 0x107d60048>"
      ]
     },
     "metadata": {},
     "output_type": "display_data"
    }
   ],
   "source": [
    "x = generate(184, size=200, steps=200)\n",
    "plt.figure(figsize=(5,5))\n",
    "plt.imshow(x, interpolation='none', cmap=plt.cm.binary)\n",
    "plt.xticks([])\n",
    "plt.yticks([])\n",
    "plt.title(str(rule))"
   ]
  },
  {
   "cell_type": "code",
   "execution_count": null,
   "metadata": {
    "collapsed": true
   },
   "outputs": [],
   "source": [
    "# [Conway's Game of Life in Python | Pythonic Perambulations](http://jakevdp.github.io/blog/2013/08/07/conways-game-of-life/)\n",
    "\n"
   ]
  }
 ],
 "metadata": {
  "kernelspec": {
   "display_name": "Python 3",
   "language": "python",
   "name": "python3"
  },
  "language_info": {
   "codemirror_mode": {
    "name": "ipython",
    "version": 3
   },
   "file_extension": ".py",
   "mimetype": "text/x-python",
   "name": "python",
   "nbconvert_exporter": "python",
   "pygments_lexer": "ipython3",
   "version": "3.6.0"
  }
 },
 "nbformat": 4,
 "nbformat_minor": 2
}
