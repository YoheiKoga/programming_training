{
 "cells": [
  {
   "cell_type": "code",
   "execution_count": 5,
   "metadata": {
    "collapsed": false,
    "deletable": true,
    "editable": true
   },
   "outputs": [
    {
     "data": {
      "text/plain": [
       "5"
      ]
     },
     "execution_count": 5,
     "metadata": {},
     "output_type": "execute_result"
    }
   ],
   "source": [
    "2+3"
   ]
  },
  {
   "cell_type": "code",
   "execution_count": 6,
   "metadata": {
    "collapsed": false,
    "deletable": true,
    "editable": true
   },
   "outputs": [
    {
     "data": {
      "text/plain": [
       "25"
      ]
     },
     "execution_count": 6,
     "metadata": {},
     "output_type": "execute_result"
    }
   ],
   "source": [
    "_ * 5"
   ]
  },
  {
   "cell_type": "code",
   "execution_count": 11,
   "metadata": {
    "collapsed": false,
    "deletable": true,
    "editable": true
   },
   "outputs": [
    {
     "name": "stdout",
     "output_type": "stream",
     "text": [
      "Untitled.ipynb test.txt\r\n"
     ]
    }
   ],
   "source": [
    "!ls"
   ]
  },
  {
   "cell_type": "code",
   "execution_count": 12,
   "metadata": {
    "collapsed": true,
    "deletable": true,
    "editable": true
   },
   "outputs": [],
   "source": [
    "from IPython.display import HTML, SVG, YouTubeVideo"
   ]
  },
  {
   "cell_type": "code",
   "execution_count": 23,
   "metadata": {
    "collapsed": false,
    "deletable": true,
    "editable": true
   },
   "outputs": [
    {
     "data": {
      "text/html": [
       "\n",
       "<table style=\"border: 2px solid black;\">\n",
       "<tr><td>5,0</td><td>5,1</td><td>5,2</td><td>5,3</td><td>5,4</td></tr><tr><td>6,0</td><td>6,1</td><td>6,2</td><td>6,3</td><td>6,4</td></tr><tr><td>7,0</td><td>7,1</td><td>7,2</td><td>7,3</td><td>7,4</td></tr><tr><td>8,0</td><td>8,1</td><td>8,2</td><td>8,3</td><td>8,4</td></tr><tr><td>9,0</td><td>9,1</td><td>9,2</td><td>9,3</td><td>9,4</td></tr>\n",
       "</table>\n"
      ],
      "text/plain": [
       "<IPython.core.display.HTML object>"
      ]
     },
     "execution_count": 23,
     "metadata": {},
     "output_type": "execute_result"
    }
   ],
   "source": [
    "HTML('''\n",
    "<table style=\"border: 2px solid black;\">\n",
    "''' +\n",
    "''.join(['<tr>' +\n",
    "            ''.join(['<td>{row},{col}</td>'.format(\n",
    "                                    row=row, col=col\n",
    "            ) for col in range(5)]) + \n",
    "            '</tr>' for row in range(5,10)]) +\n",
    "'''\n",
    "</table>\n",
    "''')"
   ]
  },
  {
   "cell_type": "code",
   "execution_count": 37,
   "metadata": {
    "collapsed": false,
    "deletable": true,
    "editable": true
   },
   "outputs": [
    {
     "data": {
      "image/svg+xml": [
       "<svg height=\"80\" width=\"600\"><circle cx=\"300\" cy=\"30\" fill=\"skyblue\" r=\"0.0\" stroke=\"green\" stroke-width=\"1\">\n",
       "    </circle><circle cx=\"297\" cy=\"30\" fill=\"skyblue\" r=\"3.0\" stroke=\"green\" stroke-width=\"1\">\n",
       "    </circle><circle cx=\"288\" cy=\"30\" fill=\"skyblue\" r=\"6.0\" stroke=\"green\" stroke-width=\"1\">\n",
       "    </circle><circle cx=\"273\" cy=\"30\" fill=\"skyblue\" r=\"9.0\" stroke=\"green\" stroke-width=\"1\">\n",
       "    </circle><circle cx=\"252\" cy=\"30\" fill=\"skyblue\" r=\"12.0\" stroke=\"green\" stroke-width=\"1\">\n",
       "    </circle><circle cx=\"225\" cy=\"30\" fill=\"skyblue\" r=\"15.0\" stroke=\"green\" stroke-width=\"1\">\n",
       "    </circle><circle cx=\"192\" cy=\"30\" fill=\"skyblue\" r=\"18.0\" stroke=\"green\" stroke-width=\"1\">\n",
       "    </circle><circle cx=\"153\" cy=\"30\" fill=\"skyblue\" r=\"21.0\" stroke=\"green\" stroke-width=\"1\">\n",
       "    </circle><circle cx=\"108\" cy=\"30\" fill=\"skyblue\" r=\"24.0\" stroke=\"green\" stroke-width=\"1\">\n",
       "    </circle><circle cx=\"57\" cy=\"30\" fill=\"skyblue\" r=\"27.0\" stroke=\"green\" stroke-width=\"1\">\n",
       "    </circle></svg>"
      ],
      "text/plain": [
       "<IPython.core.display.SVG object>"
      ]
     },
     "execution_count": 37,
     "metadata": {},
     "output_type": "execute_result"
    }
   ],
   "source": [
    "SVG('''<svg width=\"600\" height=\"80\">''' +\n",
    "    ''.join(['''<circle cx=\"{x}\" cy=\"{y}\" r=\"{r}\" \n",
    "                                fill=\"skyblue\"\n",
    "                                stroke-width=\"1\"\n",
    "                                stroke=\"green\">\n",
    "    </circle>'''.format(x=(30+3*i)*(10-i),\n",
    "                                     y=30,\n",
    "                                     r=3.*float(i)\n",
    "                       ) for i in range(0,10)]) +\n",
    "   '''</svg>''')"
   ]
  },
  {
   "cell_type": "code",
   "execution_count": 41,
   "metadata": {
    "collapsed": false,
    "deletable": true,
    "editable": true
   },
   "outputs": [
    {
     "data": {
      "image/jpeg": "[encoded data removed]",
      "text/html": [
       "\n",
       "        <iframe\n",
       "            width=\"400\"\n",
       "            height=\"300\"\n",
       "            src=\"https://www.youtube.com/embed/j9YpkSX7NNM\"\n",
       "            frameborder=\"0\"\n",
       "            allowfullscreen\n",
       "        ></iframe>\n",
       "        "
      ],
      "text/plain": [
       "<IPython.lib.display.YouTubeVideo at 0x111f18cf8>"
      ]
     },
     "execution_count": 41,
     "metadata": {},
     "output_type": "execute_result"
    }
   ],
   "source": [
    "YouTubeVideo('j9YpkSX7NNM')"
   ]
  },
  {
   "cell_type": "code",
   "execution_count": 4,
   "metadata": {
    "collapsed": false,
    "deletable": true,
    "editable": true
   },
   "outputs": [
    {
     "data": {
      "application/vnd.jupyter.widget-view+json": {
       "model_id": "9eaa3273cf9d40e6bdb5efdd6d302fe9"
      }
     },
     "metadata": {},
     "output_type": "display_data"
    },
    {
     "data": {
      "application/vnd.jupyter.widget-view+json": {
       "model_id": "d508969bbef74f97a18efcc4a8092e34"
      }
     },
     "metadata": {},
     "output_type": "display_data"
    }
   ],
   "source": [
    "import pandas as pd\n",
    "import plotly.plotly as py\n",
    "\n",
    "from ipywidgets import widgets\n",
    "from IPython.display import display, clear_output, Image\n",
    "from plotly.graph_objs import *\n",
    "from plotly.widgets import GraphWidget\n",
    "\n",
    "g = GraphWidget('https://plot.ly/~kevintest/1149/')\n",
    "w = widgets.Dropdown(\n",
    "    options=['red', 'blue', 'green'],\n",
    "    value='blue',\n",
    "    description='Colour:',\n",
    ")\n",
    "\n",
    "def update_on_change(change):\n",
    "    g.restyle({'marker.color': change['new']})\n",
    "\n",
    "w.observe(update_on_change, names=\"selected_label\")\n",
    "\n",
    "display(w)\n",
    "display(g)"
   ]
  },
  {
   "cell_type": "code",
   "execution_count": 16,
   "metadata": {
    "collapsed": false,
    "deletable": true,
    "editable": true
   },
   "outputs": [
    {
     "data": {
      "application/vnd.jupyter.widget-view+json": {
       "model_id": "b0c18c85d3a741dab250ceb8041f9972"
      }
     },
     "metadata": {},
     "output_type": "display_data"
    }
   ],
   "source": [
    "%matplotlib inline\n",
    "from ipywidgets import interact\n",
    "import numpy as np\n",
    "import matplotlib.pyplot as plt\n",
    "\n",
    "\n",
    "def scatter(num_data):\n",
    "    x = np.linspace(0, num_data, 1000)\n",
    "    plt.plot(x, np.sin(x))\n",
    "    plt.xlim(0, 10)\n",
    "    plt.ylim(-1.0, 1.0)\n",
    "    plt.show()\n",
    "\n",
    "interact(scatter, num_data=(0, 10, 0.1));"
   ]
  },
  {
   "cell_type": "code",
   "execution_count": 14,
   "metadata": {
    "collapsed": false,
    "deletable": true,
    "editable": true
   },
   "outputs": [
    {
     "data": {
      "application/vnd.jupyter.widget-view+json": {
       "model_id": "c9003a93f99a4ffca7a53e61cb4987b6"
      }
     },
     "metadata": {},
     "output_type": "display_data"
    }
   ],
   "source": [
    "%matplotlib inline\n",
    "import numpy as np\n",
    "import matplotlib.pyplot as plt\n",
    "from ipywidgets import interact, FloatSlider, RadioButtons, Dropdown\n",
    "\n",
    "amplitude = FloatSlider(min=0.0, max=1.0, step=0.11, value=0.0)\n",
    "# color = RadioButtons(options=['blue', 'green', 'red'])\n",
    "color = Dropdown(options=['red', 'green', 'blue', 'pink'])\n",
    "\n",
    "@interact(amplitude=amplitude, color=color)\n",
    "def plot(amplitude, color):\n",
    "    x = np.linspace(0, 10, 1000)\n",
    "    plt.plot(x, amplitude*np.sin(x), color=color, lw=5, alpha=0.4)\n",
    "    plt.xlim(0, 10)\n",
    "    plt.ylim(-1.0, 1.0)\n",
    "    plt.show()"
   ]
  },
  {
   "cell_type": "code",
   "execution_count": 30,
   "metadata": {
    "collapsed": false,
    "deletable": true,
    "editable": true
   },
   "outputs": [
    {
     "data": {
      "application/vnd.jupyter.widget-view+json": {
       "model_id": "0b61b7d6282a49d9afb9f05ce569a885"
      }
     },
     "metadata": {},
     "output_type": "display_data"
    },
    {
     "data": {
      "text/plain": [
       "<function __main__.f>"
      ]
     },
     "execution_count": 30,
     "metadata": {},
     "output_type": "execute_result"
    }
   ],
   "source": [
    "from ipywidgets import interact\n",
    "\n",
    "def f(x):\n",
    "    print(x)\n",
    "\n",
    "\n",
    "interact(f, x=10)"
   ]
  },
  {
   "cell_type": "code",
   "execution_count": 32,
   "metadata": {
    "collapsed": false,
    "deletable": true,
    "editable": true
   },
   "outputs": [
    {
     "data": {
      "application/vnd.jupyter.widget-view+json": {
       "model_id": "b8630ea60bff41069d19ea94a52910c0"
      }
     },
     "metadata": {},
     "output_type": "display_data"
    }
   ],
   "source": [
    "from ipywidgets import interact\n",
    "\n",
    "@interact(x=(-10, 10, 2))\n",
    "def g(x=8):\n",
    "    print(x)"
   ]
  },
  {
   "cell_type": "code",
   "execution_count": 41,
   "metadata": {
    "collapsed": false,
    "deletable": true,
    "editable": true
   },
   "outputs": [
    {
     "data": {
      "application/vnd.jupyter.widget-view+json": {
       "model_id": "ed5b2e5ae6ab4e96975b3a0a0469dc27"
      }
     },
     "metadata": {},
     "output_type": "display_data"
    }
   ],
   "source": [
    "%matplotlib inline\n",
    "import matplotlib.pyplot as plt\n",
    "import numpy as np\n",
    "from ipywidgets import interact\n",
    "\n",
    "@interact(amp=(0.1, 4.0, 0.1), omega=(0.1, 4.0, 0.1), phase=(-np.pi, np.pi, 0.1), fn = {'sin': np.sin, 'cos': np.cos, 'tan': np.tan})\n",
    "def h(amp=1.0, omega=1.0, phase=0.0, fn=np.sin):\n",
    "    domain=[-np.pi, np.pi]\n",
    "    x = np.linspace(domain[0], domain[1], 100)\n",
    "    y = amp * fn(omega * x + phase)\n",
    "    plt.plot(x, y)\n",
    "    plt.plot(-phase/omega, 0, 'or')\n",
    "    plt.xlim(domain)\n",
    "    plt.ylim([-4, 4])\n",
    "    plt.show()"
   ]
  },
  {
   "cell_type": "code",
   "execution_count": 4,
   "metadata": {
    "collapsed": false,
    "deletable": true,
    "editable": true,
    "scrolled": true
   },
   "outputs": [
    {
     "data": {
      "image/jpeg": "[encoded data removed]",
      "text/html": [
       "\n",
       "        <iframe\n",
       "            width=\"400\"\n",
       "            height=\"300\"\n",
       "            src=\"https://www.youtube.com/embed/j9YpkSX7NNM\"\n",
       "            frameborder=\"0\"\n",
       "            allowfullscreen\n",
       "        ></iframe>\n",
       "        "
      ],
      "text/plain": [
       "<IPython.lib.display.YouTubeVideo at 0x1113a0390>"
      ]
     },
     "metadata": {},
     "output_type": "display_data"
    },
    {
     "data": {
      "application/vnd.jupyter.widget-view+json": {
       "model_id": "f2047a7c82fb45fe9b556b13c28d990a"
      }
     },
     "metadata": {},
     "output_type": "display_data"
    }
   ],
   "source": [
    "from collections import OrderedDict\n",
    "from IPython.display import (display,\n",
    "                                                  clear_output,\n",
    "                                                  YouTubeVideo)\n",
    "from ipywidgets import Dropdown\n",
    "\n",
    "\n",
    "dw = Dropdown(options=OrderedDict([\n",
    "                        ('SciPy 2012', 'iwVvqwLDsJo'), \n",
    "                        ('PyCon 2012', '2G5YTlheCbw'),\n",
    "                        ('SciPy 2013', 'j9YpkSX7NNM')]))\n",
    "\n",
    "def on_value_change(name, val):\n",
    "    clear_output()\n",
    "    display(YouTubeVideo(val))\n",
    "\n",
    "dw.on_trait_change(on_value_change, 'value')\n",
    "dw.value = dw.options['SciPy 2013']\n",
    "\n",
    "display(dw)"
   ]
  }
 ],
 "metadata": {
  "kernelspec": {
   "display_name": "Python 3",
   "language": "python",
   "name": "python3"
  },
  "language_info": {
   "codemirror_mode": {
    "name": "ipython",
    "version": 3
   },
   "file_extension": ".py",
   "mimetype": "text/x-python",
   "name": "python",
   "nbconvert_exporter": "python",
   "pygments_lexer": "ipython3",
   "version": "3.6.0"
  }
 },
 "nbformat": 4,
 "nbformat_minor": 2
}
