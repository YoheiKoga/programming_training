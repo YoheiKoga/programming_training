{
 "cells": [
  {
   "cell_type": "code",
   "execution_count": 17,
   "metadata": {
    "collapsed": false
   },
   "outputs": [
    {
     "name": "stdout",
     "output_type": "stream",
     "text": [
      "Overwriting plotkernel.py\n"
     ]
    }
   ],
   "source": [
    "%%writefile plotkernel.py\n",
    "from ipykernel.kernelbase import Kernel\n",
    "import numpy as np\n",
    "import matplotlib.pyplot as plt\n",
    "from io import BytesIO\n",
    "import urllib, base64\n",
    "\n",
    "def _to_png(fig):\n",
    "    \"\"\"Return a base64-encoded PNG from a\n",
    "    matplotlib figure.\"\"\"\n",
    "    imgdata = BytesIO()\n",
    "    fig.savefig(imgdata, format='png')\n",
    "    imgdata.seek(0)\n",
    "    return urllib.parse.quote(\n",
    "        base64.b64encode(imgdata.getvalue()))\n",
    "\n",
    "_numpy_namespace = {n: getattr(np, n) for n in dir(np)}\n",
    "\n",
    "def _parse_function(code):\n",
    "    \"\"\"Return a NumPy function from a string 'y=f(x)'.\"\"\"\n",
    "    return lambda x: eval(code.split('=')[1].strip(), _numpy_namespace, {'x': x})\n",
    "\n",
    "class PlotKernel(Kernel):\n",
    "    implementation = 'Plot'\n",
    "    implementation_version = '1.0'\n",
    "    banner = \"Simple plotting\"\n",
    "    language_info = {\n",
    "        'name': 'python',\n",
    "        'version': '',\n",
    "        'file_extension': '.plot',\n",
    "        'mimetype': 'text/x-python'\n",
    "    }\n",
    "    language = language_info['name']\n",
    "    language_version = language_info['version']\n",
    "    \n",
    "    def do_execute(self, code, silent,\n",
    "                  store_history=True,\n",
    "                  user_expressions=None,\n",
    "                  allow_stdin=False):\n",
    "        \n",
    "        fig = plt.figure(figsize=(6,4), dpi=100)\n",
    "        x = np.linspace(-5., 5., 200)\n",
    "        functions = code.split('\\n')\n",
    "        for fun in functions:\n",
    "            f = _parse_function(fun)\n",
    "            y = f(x)\n",
    "            plt.plot(x, y)\n",
    "        plt.xlim(-5, 5)\n",
    "        \n",
    "        png = _to_png(fig)\n",
    "        \n",
    "        if not silent:\n",
    "            self.send_response(self.iopub_socket,\n",
    "                              'stream', {\n",
    "                                  'name': 'stdout',\n",
    "                                  'data': 'Plotting {n} function(s)'. \\\n",
    "                                      format(n=len(functions))\n",
    "                              })\n",
    "            \n",
    "            content = {\n",
    "                'source': 'kernel',\n",
    "                \n",
    "                'data': {\n",
    "                    'image/png': png\n",
    "                },\n",
    "                \n",
    "                'metadata': {\n",
    "                    'image/png': {\n",
    "                        'width': 600,\n",
    "                        'height': 400\n",
    "                    }\n",
    "                }\n",
    "            }\n",
    "            \n",
    "            self.send_response(self.iopub_socket, 'display_data', content)\n",
    "        \n",
    "        return {'status': 'ok',\n",
    "               'execution_count': self.execution_count,\n",
    "               'payload': [],\n",
    "               'user_expressions': {},\n",
    "               }\n",
    "\n",
    "if __name__ == '__name__':\n",
    "    from ipykernel.kernelapp import IPKernelApp\n",
    "    IPKernelApp.launch_instance(kernel_class=PlotKernel)"
   ]
  },
  {
   "cell_type": "code",
   "execution_count": 5,
   "metadata": {
    "collapsed": false
   },
   "outputs": [
    {
     "name": "stdout",
     "output_type": "stream",
     "text": [
      "Overwriting plot/kernel.json\n"
     ]
    }
   ],
   "source": [
    "%%writefile plot/kernel.json\n",
    "{\n",
    "    \"argv\": [\"python\", \"-m\",\n",
    "            \"plotkernel\", \"-f\",\n",
    "            \"{connection_file}\"],\n",
    "    \"display_name\": \"Plot\",\n",
    "    \"language\": \"python\"\n",
    "}"
   ]
  },
  {
   "cell_type": "code",
   "execution_count": 8,
   "metadata": {
    "collapsed": false
   },
   "outputs": [
    {
     "name": "stdout",
     "output_type": "stream",
     "text": [
      "Available kernels:\r\n",
      "  plot       /Users/yk/Library/Jupyter/kernels/plot\r\n",
      "  python3    /Users/yk/.virtualenvs/cv/bin/../share/jupyter/kernels/python3\r\n"
     ]
    }
   ],
   "source": [
    "!jupyter kernelspec list"
   ]
  },
  {
   "cell_type": "code",
   "execution_count": 20,
   "metadata": {
    "collapsed": false
   },
   "outputs": [
    {
     "ename": "NameError",
     "evalue": "name 'sin' is not defined",
     "output_type": "error",
     "traceback": [
      "\u001b[0;31m---------------------------------------------------------------------------\u001b[0m",
      "\u001b[0;31mNameError\u001b[0m                                 Traceback (most recent call last)",
      "\u001b[0;32m<ipython-input-20-9895dea657ef>\u001b[0m in \u001b[0;36m<module>\u001b[0;34m()\u001b[0m\n\u001b[1;32m      1\u001b[0m \u001b[0;32mimport\u001b[0m \u001b[0mplotkernel\u001b[0m\u001b[0;34m\u001b[0m\u001b[0m\n\u001b[0;32m----> 2\u001b[0;31m \u001b[0my\u001b[0m \u001b[0;34m=\u001b[0m \u001b[0msin\u001b[0m\u001b[0;34m(\u001b[0m\u001b[0mx\u001b[0m\u001b[0;34m)\u001b[0m\u001b[0;34m\u001b[0m\u001b[0m\n\u001b[0m",
      "\u001b[0;31mNameError\u001b[0m: name 'sin' is not defined"
     ]
    }
   ],
   "source": [
    "import plotkernel\n",
    "y = sin(x)"
   ]
  }
 ],
 "metadata": {
  "kernelspec": {
   "display_name": "Python 3",
   "language": "python",
   "name": "python3"
  },
  "language_info": {
   "codemirror_mode": {
    "name": "ipython",
    "version": 3
   },
   "file_extension": ".py",
   "mimetype": "text/x-python",
   "name": "python",
   "nbconvert_exporter": "python",
   "pygments_lexer": "ipython3",
   "version": "3.6.0"
  }
 },
 "nbformat": 4,
 "nbformat_minor": 2
}
