{
 "cells": [
  {
   "cell_type": "code",
   "execution_count": 74,
   "metadata": {},
   "outputs": [],
   "source": [
    "from datetime import datetime\n",
    "import numpy as np\n",
    "import pandas as pd\n",
    "import matplotlib.pyplot as plt\n",
    "import seaborn as sns\n",
    "%matplotlib inline\n",
    "\n",
    "player = 'Roger Federer'\n",
    "filename = \"data/{name}.csv\".format(name=player.replace(' ', '-'))\n",
    "df = pd.read_csv(filename)"
   ]
  },
  {
   "cell_type": "code",
   "execution_count": 75,
   "metadata": {},
   "outputs": [
    {
     "data": {
      "text/html": [
       "<div>\n",
       "<style>\n",
       "    .dataframe thead tr:only-child th {\n",
       "        text-align: right;\n",
       "    }\n",
       "\n",
       "    .dataframe thead th {\n",
       "        text-align: left;\n",
       "    }\n",
       "\n",
       "    .dataframe tbody tr th {\n",
       "        vertical-align: top;\n",
       "    }\n",
       "</style>\n",
       "<table border=\"1\" class=\"dataframe\">\n",
       "  <thead>\n",
       "    <tr style=\"text-align: right;\">\n",
       "      <th></th>\n",
       "      <th>year</th>\n",
       "      <th>tournament</th>\n",
       "      <th>start date</th>\n",
       "      <th>type</th>\n",
       "      <th>surface</th>\n",
       "      <th>draw</th>\n",
       "      <th>atp points</th>\n",
       "      <th>atp ranking</th>\n",
       "      <th>tournament prize money</th>\n",
       "      <th>round</th>\n",
       "      <th>...</th>\n",
       "      <th>player2 2nd serve return points total</th>\n",
       "      <th>player2 break points converted won</th>\n",
       "      <th>player2 break points converted total</th>\n",
       "      <th>player2 return games played</th>\n",
       "      <th>player2 total service points won</th>\n",
       "      <th>player2 total service points total</th>\n",
       "      <th>player2 total return points won</th>\n",
       "      <th>player2 total return points total</th>\n",
       "      <th>player2 total points won</th>\n",
       "      <th>player2 total points total</th>\n",
       "    </tr>\n",
       "  </thead>\n",
       "  <tbody>\n",
       "    <tr>\n",
       "      <th>0</th>\n",
       "      <td>1998</td>\n",
       "      <td>Basel, Switzerland</td>\n",
       "      <td>05.10.1998</td>\n",
       "      <td>WS</td>\n",
       "      <td>Indoor: Hard</td>\n",
       "      <td>Draw: 32</td>\n",
       "      <td>1</td>\n",
       "      <td>396.0</td>\n",
       "      <td>$9,800</td>\n",
       "      <td>R32</td>\n",
       "      <td>...</td>\n",
       "      <td>22.0</td>\n",
       "      <td>4.0</td>\n",
       "      <td>8.0</td>\n",
       "      <td>8.0</td>\n",
       "      <td>36.0</td>\n",
       "      <td>50.0</td>\n",
       "      <td>26.0</td>\n",
       "      <td>53.0</td>\n",
       "      <td>62.0</td>\n",
       "      <td>103.0</td>\n",
       "    </tr>\n",
       "    <tr>\n",
       "      <th>1</th>\n",
       "      <td>1998</td>\n",
       "      <td>Toulouse, France</td>\n",
       "      <td>28.09.1998</td>\n",
       "      <td>WS</td>\n",
       "      <td>Indoor: Hard</td>\n",
       "      <td>Draw: 32</td>\n",
       "      <td>59</td>\n",
       "      <td>878.0</td>\n",
       "      <td>$10,800</td>\n",
       "      <td>R32</td>\n",
       "      <td>...</td>\n",
       "      <td>19.0</td>\n",
       "      <td>0.0</td>\n",
       "      <td>1.0</td>\n",
       "      <td>8.0</td>\n",
       "      <td>33.0</td>\n",
       "      <td>65.0</td>\n",
       "      <td>8.0</td>\n",
       "      <td>41.0</td>\n",
       "      <td>41.0</td>\n",
       "      <td>106.0</td>\n",
       "    </tr>\n",
       "    <tr>\n",
       "      <th>2</th>\n",
       "      <td>1998</td>\n",
       "      <td>Toulouse, France</td>\n",
       "      <td>28.09.1998</td>\n",
       "      <td>WS</td>\n",
       "      <td>Indoor: Hard</td>\n",
       "      <td>Draw: 32</td>\n",
       "      <td>59</td>\n",
       "      <td>878.0</td>\n",
       "      <td>$10,800</td>\n",
       "      <td>R16</td>\n",
       "      <td>...</td>\n",
       "      <td>30.0</td>\n",
       "      <td>0.0</td>\n",
       "      <td>4.0</td>\n",
       "      <td>10.0</td>\n",
       "      <td>46.0</td>\n",
       "      <td>75.0</td>\n",
       "      <td>23.0</td>\n",
       "      <td>73.0</td>\n",
       "      <td>69.0</td>\n",
       "      <td>148.0</td>\n",
       "    </tr>\n",
       "    <tr>\n",
       "      <th>3</th>\n",
       "      <td>1998</td>\n",
       "      <td>Toulouse, France</td>\n",
       "      <td>28.09.1998</td>\n",
       "      <td>WS</td>\n",
       "      <td>Indoor: Hard</td>\n",
       "      <td>Draw: 32</td>\n",
       "      <td>59</td>\n",
       "      <td>878.0</td>\n",
       "      <td>$10,800</td>\n",
       "      <td>Q</td>\n",
       "      <td>...</td>\n",
       "      <td>28.0</td>\n",
       "      <td>3.0</td>\n",
       "      <td>10.0</td>\n",
       "      <td>10.0</td>\n",
       "      <td>44.0</td>\n",
       "      <td>63.0</td>\n",
       "      <td>26.0</td>\n",
       "      <td>67.0</td>\n",
       "      <td>70.0</td>\n",
       "      <td>130.0</td>\n",
       "    </tr>\n",
       "    <tr>\n",
       "      <th>4</th>\n",
       "      <td>1998</td>\n",
       "      <td>Geneva, Switzerland</td>\n",
       "      <td>24.08.1998</td>\n",
       "      <td>CH</td>\n",
       "      <td>Outdoor: Clay</td>\n",
       "      <td>Draw: 32</td>\n",
       "      <td>1</td>\n",
       "      <td>680.0</td>\n",
       "      <td>$520</td>\n",
       "      <td>R32</td>\n",
       "      <td>...</td>\n",
       "      <td>NaN</td>\n",
       "      <td>NaN</td>\n",
       "      <td>NaN</td>\n",
       "      <td>NaN</td>\n",
       "      <td>NaN</td>\n",
       "      <td>NaN</td>\n",
       "      <td>NaN</td>\n",
       "      <td>NaN</td>\n",
       "      <td>NaN</td>\n",
       "      <td>NaN</td>\n",
       "    </tr>\n",
       "  </tbody>\n",
       "</table>\n",
       "<p>5 rows × 70 columns</p>\n",
       "</div>"
      ],
      "text/plain": [
       "   year           tournament  start date type        surface      draw  \\\n",
       "0  1998   Basel, Switzerland  05.10.1998   WS   Indoor: Hard  Draw: 32   \n",
       "1  1998     Toulouse, France  28.09.1998   WS   Indoor: Hard  Draw: 32   \n",
       "2  1998     Toulouse, France  28.09.1998   WS   Indoor: Hard  Draw: 32   \n",
       "3  1998     Toulouse, France  28.09.1998   WS   Indoor: Hard  Draw: 32   \n",
       "4  1998  Geneva, Switzerland  24.08.1998   CH  Outdoor: Clay  Draw: 32   \n",
       "\n",
       "  atp points  atp ranking tournament prize money round  \\\n",
       "0          1        396.0                 $9,800   R32   \n",
       "1         59        878.0                $10,800   R32   \n",
       "2         59        878.0                $10,800   R16   \n",
       "3         59        878.0                $10,800     Q   \n",
       "4          1        680.0                   $520   R32   \n",
       "\n",
       "             ...             player2 2nd serve return points total  \\\n",
       "0            ...                                              22.0   \n",
       "1            ...                                              19.0   \n",
       "2            ...                                              30.0   \n",
       "3            ...                                              28.0   \n",
       "4            ...                                               NaN   \n",
       "\n",
       "  player2 break points converted won player2 break points converted total  \\\n",
       "0                                4.0                                  8.0   \n",
       "1                                0.0                                  1.0   \n",
       "2                                0.0                                  4.0   \n",
       "3                                3.0                                 10.0   \n",
       "4                                NaN                                  NaN   \n",
       "\n",
       "  player2 return games played player2 total service points won  \\\n",
       "0                         8.0                             36.0   \n",
       "1                         8.0                             33.0   \n",
       "2                        10.0                             46.0   \n",
       "3                        10.0                             44.0   \n",
       "4                         NaN                              NaN   \n",
       "\n",
       "  player2 total service points total  player2 total return points won  \\\n",
       "0                               50.0                             26.0   \n",
       "1                               65.0                              8.0   \n",
       "2                               75.0                             23.0   \n",
       "3                               63.0                             26.0   \n",
       "4                                NaN                              NaN   \n",
       "\n",
       "  player2 total return points total player2 total points won  \\\n",
       "0                              53.0                     62.0   \n",
       "1                              41.0                     41.0   \n",
       "2                              73.0                     69.0   \n",
       "3                              67.0                     70.0   \n",
       "4                               NaN                      NaN   \n",
       "\n",
       "  player2 total points total  \n",
       "0                      103.0  \n",
       "1                      106.0  \n",
       "2                      148.0  \n",
       "3                      130.0  \n",
       "4                        NaN  \n",
       "\n",
       "[5 rows x 70 columns]"
      ]
     },
     "execution_count": 75,
     "metadata": {},
     "output_type": "execute_result"
    }
   ],
   "source": [
    "pd.DataFrame.head(df)"
   ]
  },
  {
   "cell_type": "code",
   "execution_count": 76,
   "metadata": {},
   "outputs": [
    {
     "data": {
      "text/plain": [
       "1174    False\n",
       "1175     True\n",
       "1176     True\n",
       "1177     True\n",
       "1178    False\n",
       "Name: win, dtype: bool"
      ]
     },
     "execution_count": 76,
     "metadata": {},
     "output_type": "execute_result"
    }
   ],
   "source": [
    "df['win'] = df['winner'] == player\n",
    "df['win'].tail()"
   ]
  },
  {
   "cell_type": "code",
   "execution_count": 77,
   "metadata": {},
   "outputs": [
    {
     "data": {
      "text/plain": [
       "year                                       int64\n",
       "tournament                                object\n",
       "start date                                object\n",
       "type                                      object\n",
       "surface                                   object\n",
       "draw                                      object\n",
       "atp points                                object\n",
       "atp ranking                              float64\n",
       "tournament prize money                    object\n",
       "round                                     object\n",
       "opponent                                  object\n",
       "ranking                                   object\n",
       "score                                     object\n",
       "stats link                                object\n",
       "tournament.1                              object\n",
       "tournament round                          object\n",
       "time                                       int64\n",
       "winner                                    object\n",
       "player1 name                              object\n",
       "player1 nationality                       object\n",
       "player1 aces                             float64\n",
       "player1 double faults                    float64\n",
       "player1 1st serves in                    float64\n",
       "player1 1st serves total                 float64\n",
       "player1 1st serve points won             float64\n",
       "player1 1st serve points total           float64\n",
       "player1 2nd serve points won             float64\n",
       "player1 2nd serve points total           float64\n",
       "player1 break points won                 float64\n",
       "player1 break points total               float64\n",
       "                                          ...   \n",
       "player1 total return points total        float64\n",
       "player1 total points won                 float64\n",
       "player1 total points total               float64\n",
       "player2 name                              object\n",
       "player2 nationality                       object\n",
       "player2 aces                             float64\n",
       "player2 double faults                    float64\n",
       "player2 1st serves in                    float64\n",
       "player2 1st serves total                 float64\n",
       "player2 1st serve points won             float64\n",
       "player2 1st serve points total           float64\n",
       "player2 2nd serve points won             float64\n",
       "player2 2nd serve points total           float64\n",
       "player2 break points won                 float64\n",
       "player2 break points total               float64\n",
       "player2 service games played             float64\n",
       "player2 1st serve return points won      float64\n",
       "player2 1st serve return points total    float64\n",
       "player2 2nd serve return points won      float64\n",
       "player2 2nd serve return points total    float64\n",
       "player2 break points converted won       float64\n",
       "player2 break points converted total     float64\n",
       "player2 return games played              float64\n",
       "player2 total service points won         float64\n",
       "player2 total service points total       float64\n",
       "player2 total return points won          float64\n",
       "player2 total return points total        float64\n",
       "player2 total points won                 float64\n",
       "player2 total points total               float64\n",
       "win                                         bool\n",
       "Length: 71, dtype: object"
      ]
     },
     "execution_count": 77,
     "metadata": {},
     "output_type": "execute_result"
    }
   ],
   "source": [
    "df.dtypes"
   ]
  },
  {
   "cell_type": "code",
   "execution_count": 78,
   "metadata": {},
   "outputs": [
    {
     "name": "stdout",
     "output_type": "stream",
     "text": [
      "Roger Federer has won 82% of his ATP matches.\n"
     ]
    }
   ],
   "source": [
    "print(\"{player} has won {vic:.0f}% of his ATP matches.\".format(player=player, vic=100*df['win'].mean()))"
   ]
  },
  {
   "cell_type": "code",
   "execution_count": 79,
   "metadata": {},
   "outputs": [
    {
     "data": {
      "text/plain": [
       "count    1027.000000\n",
       "mean        0.012129\n",
       "std         0.010797\n",
       "min         0.000000\n",
       "25%         0.004444\n",
       "50%         0.010000\n",
       "75%         0.018108\n",
       "max         0.060606\n",
       "Name: dblfaults, dtype: float64"
      ]
     },
     "execution_count": 79,
     "metadata": {},
     "output_type": "execute_result"
    }
   ],
   "source": [
    "date = pd.to_datetime(df['start date'])\n",
    "df['dblfaults'] = (df['player1 double faults']/df['player1 total points total'])\n",
    "df['dblfaults'].describe()"
   ]
  },
  {
   "cell_type": "code",
   "execution_count": 80,
   "metadata": {},
   "outputs": [
    {
     "data": {
      "text/plain": [
       "1.9727361246348589"
      ]
     },
     "execution_count": 80,
     "metadata": {},
     "output_type": "execute_result"
    }
   ],
   "source": [
    "df['player1 double faults'].mean()"
   ]
  },
  {
   "cell_type": "code",
   "execution_count": 81,
   "metadata": {},
   "outputs": [
    {
     "data": {
      "text/plain": [
       "surface\n",
       "Indoor: Carpet    0.736842\n",
       "Indoor: Clay      0.833333\n",
       "Indoor: Hard      0.836283\n",
       "Outdoor: Clay     0.779116\n",
       "Outdoor: Grass    0.871429\n",
       "Outdoor: Hard     0.842324\n",
       "Name: win, dtype: float64"
      ]
     },
     "execution_count": 81,
     "metadata": {},
     "output_type": "execute_result"
    }
   ],
   "source": [
    "df.groupby('surface')['win'].mean()"
   ]
  },
  {
   "cell_type": "code",
   "execution_count": 82,
   "metadata": {
    "collapsed": true
   },
   "outputs": [],
   "source": [
    "gb = df.groupby('year')"
   ]
  },
  {
   "cell_type": "code",
   "execution_count": 89,
   "metadata": {
    "collapsed": true
   },
   "outputs": [],
   "source": [
    "custom_style = {'axes.labelcolor': 'black',\n",
    "                'xtick.color': 'black',\n",
    "                'ytick.color': 'black'}\n",
    "sns.set_style(\"darkgrid\", rc=custom_style)"
   ]
  },
  {
   "cell_type": "code",
   "execution_count": 90,
   "metadata": {},
   "outputs": [
    {
     "data": {
      "text/plain": [
       "<matplotlib.text.Text at 0x108ecf240>"
      ]
     },
     "execution_count": 90,
     "metadata": {},
     "output_type": "execute_result"
    },
    {
     "data": {
      "image/png": "[encoded data removed]",
      "text/plain": [
       "<matplotlib.figure.Figure at 0x10a1fe630>"
      ]
     },
     "metadata": {},
     "output_type": "display_data"
    }
   ],
   "source": [
    "plt.figure(figsize=(8,4))\n",
    "plt.plot_date(date.astype(datetime), df['dblfaults'], alpha=.25, lw=0)\n",
    "plt.plot_date(gb['start date'].max(), gb['dblfaults'].mean(), '-', lw=3)\n",
    "plt.xlabel('Year')\n",
    "plt.ylabel('Proportion of double faults per match.')"
   ]
  }
 ],
 "metadata": {
  "kernelspec": {
   "display_name": "Python 3",
   "language": "python",
   "name": "python3"
  },
  "language_info": {
   "codemirror_mode": {
    "name": "ipython",
    "version": 3
   },
   "file_extension": ".py",
   "mimetype": "text/x-python",
   "name": "python",
   "nbconvert_exporter": "python",
   "pygments_lexer": "ipython3",
   "version": "3.6.0"
  }
 },
 "nbformat": 4,
 "nbformat_minor": 2
}
