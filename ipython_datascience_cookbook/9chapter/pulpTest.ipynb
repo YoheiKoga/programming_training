{
 "cells": [
  {
   "cell_type": "code",
   "execution_count": 28,
   "metadata": {},
   "outputs": [
    {
     "name": "stdout",
     "output_type": "stream",
     "text": [
      "4.0 6.0\n"
     ]
    }
   ],
   "source": [
    "# [最適化におけるPython - Qiita](https://qiita.com/SaitoTsutomu/items/070ca9cb37c6b2b492f0)\n",
    "\n",
    "from pulp import *\n",
    "m = LpProblem(sense=LpMaximize)\n",
    "x = LpVariable('x', lowBound=0)\n",
    "y = LpVariable('y', lowBound=0)\n",
    "m += 100*x + 100*y\n",
    "m += x + 2*y <= 16\n",
    "m += 3*x + y <= 18\n",
    "m.solve()\n",
    "print(value(x), value(y))"
   ]
  },
  {
   "cell_type": "code",
   "execution_count": 56,
   "metadata": {},
   "outputs": [
    {
     "name": "stdout",
     "output_type": "stream",
     "text": [
      "\n",
      "計算結果\n",
      "********\n",
      "最適性 = Optimal\n",
      "目的関数値 = 2.6666666\n",
      "解 x = 1.3333333\n",
      "　 y = 1.3333333\n",
      "********\n"
     ]
    }
   ],
   "source": [
    "# [Python+PuLPによるタダで仕事に使える数理最適化 - Qiita](https://qiita.com/samuelladoco/items/703bf78ea66e8369c455)\n",
    "\n",
    "import pulp\n",
    "import sys\n",
    "\n",
    "problem = pulp.LpProblem(\"Problem-1\", pulp.LpMaximize)\n",
    "\n",
    "x = pulp.LpVariable(\"x\", 0, 999, pulp.LpContinuous)\n",
    "y = pulp.LpVariable(\"y\", 0, sys.maxsize, pulp.LpContinuous)\n",
    "\n",
    "problem += x + y, \"Objective\"\n",
    "\n",
    "problem += (2*x + y <= 4, \"Constraint_1\")\n",
    "problem += (x + 2*y <= 4, \"Constraint_2\")\n",
    "\n",
    "result_status = problem.solve()\n",
    "\n",
    "print(\"\")\n",
    "print(\"計算結果\")\n",
    "print(\"********\")\n",
    "print(\"最適性 = {}\".format(pulp.LpStatus[result_status]))\n",
    "print(\"目的関数値 = {}\".format(pulp.value(problem.objective)))\n",
    "print(\"解 x = {}\".format(pulp.value(x)))\n",
    "print(\"　 y = {}\".format(pulp.value(y)))\n",
    "print(\"********\")"
   ]
  },
  {
   "cell_type": "code",
   "execution_count": 55,
   "metadata": {},
   "outputs": [
    {
     "data": {
      "text/plain": [
       "1.3333333"
      ]
     },
     "execution_count": 55,
     "metadata": {},
     "output_type": "execute_result"
    }
   ],
   "source": []
  }
 ],
 "metadata": {
  "kernelspec": {
   "display_name": "Python 3",
   "language": "python",
   "name": "python3"
  },
  "language_info": {
   "codemirror_mode": {
    "name": "ipython",
    "version": 3
   },
   "file_extension": ".py",
   "mimetype": "text/x-python",
   "name": "python",
   "nbconvert_exporter": "python",
   "pygments_lexer": "ipython3",
   "version": "3.6.0"
  }
 },
 "nbformat": 4,
 "nbformat_minor": 2
}
