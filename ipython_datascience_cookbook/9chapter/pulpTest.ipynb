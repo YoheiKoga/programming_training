{
 "cells": [
  {
   "cell_type": "code",
   "execution_count": 28,
   "metadata": {},
   "outputs": [
    {
     "name": "stdout",
     "output_type": "stream",
     "text": [
      "4.0 6.0\n"
     ]
    }
   ],
   "source": [
    "# [最適化におけるPython - Qiita](https://qiita.com/SaitoTsutomu/items/070ca9cb37c6b2b492f0)\n",
    "\n",
    "from pulp import *\n",
    "m = LpProblem(sense=LpMaximize)\n",
    "x = LpVariable('x', lowBound=0)\n",
    "y = LpVariable('y', lowBound=0)\n",
    "m += 100*x + 100*y\n",
    "m += x + 2*y <= 16\n",
    "m += 3*x + y <= 18\n",
    "m.solve()\n",
    "print(value(x), value(y))"
   ]
  },
  {
   "cell_type": "code",
   "execution_count": 56,
   "metadata": {},
   "outputs": [
    {
     "name": "stdout",
     "output_type": "stream",
     "text": [
      "\n",
      "計算結果\n",
      "********\n",
      "最適性 = Optimal\n",
      "目的関数値 = 2.6666666\n",
      "解 x = 1.3333333\n",
      "　 y = 1.3333333\n",
      "********\n"
     ]
    }
   ],
   "source": [
    "# [Python+PuLPによるタダで仕事に使える数理最適化 - Qiita](https://qiita.com/samuelladoco/items/703bf78ea66e8369c455)\n",
    "\n",
    "import pulp\n",
    "import sys\n",
    "\n",
    "problem = pulp.LpProblem(\"Problem-1\", pulp.LpMaximize)\n",
    "\n",
    "x = pulp.LpVariable(\"x\", 0, 999, pulp.LpContinuous)\n",
    "y = pulp.LpVariable(\"y\", 0, sys.maxsize, pulp.LpContinuous)\n",
    "\n",
    "problem += x + y, \"Objective\"\n",
    "\n",
    "problem += (2*x + y <= 4, \"Constraint_1\")\n",
    "problem += (x + 2*y <= 4, \"Constraint_2\")\n",
    "\n",
    "result_status = problem.solve()\n",
    "\n",
    "print(\"\")\n",
    "print(\"計算結果\")\n",
    "print(\"********\")\n",
    "print(\"最適性 = {}\".format(pulp.LpStatus[result_status]))\n",
    "print(\"目的関数値 = {}\".format(pulp.value(problem.objective)))\n",
    "print(\"解 x = {}\".format(pulp.value(x)))\n",
    "print(\"　 y = {}\".format(pulp.value(y)))\n",
    "print(\"********\")"
   ]
  },
  {
   "cell_type": "code",
   "execution_count": 28,
   "metadata": {},
   "outputs": [
    {
     "name": "stdout",
     "output_type": "stream",
     "text": [
      "c[Anna, taskA] = 1, c[Anna, taskB] = 2, c[Anna, taskC] = 3, \n",
      "c[Bob, taskA] = 4, c[Bob, taskB] = 6, c[Bob, taskC] = 8, \n",
      "c[Chris, taskA] = 10, c[Chris, taskB] = 13, c[Chris, taskC] = 16, \n"
     ]
    }
   ],
   "source": [
    "# [Python+PuLPによるタダで仕事に使える数理最適化 - Qiita](https://qiita.com/samuelladoco/items/703bf78ea66e8369c455)\n",
    "\n",
    "import pulp\n",
    "import time\n",
    "\n",
    "# set of people\n",
    "I = ['Anna', \"Bob\", \"Chris\"]\n",
    "\n",
    "# set of task\n",
    "J = ['taskA', 'taskB', 'taskC']\n",
    "\n",
    "# set of cost which people i do task j\n",
    "cc = [\n",
    "        [1,2,3],\n",
    "        [4,6,8],\n",
    "        [10,13,16],\n",
    "     ]\n",
    "\n",
    "c = {}\n",
    "for i in I:\n",
    "    for j in J:\n",
    "        c[i, j] = cc[I.index(i)][J.index(j)]\n",
    "\n",
    "for i in I:\n",
    "    for j in J:\n",
    "        print(\"c[{}, {}] = {}, \".format(i, j, c[i, j]), end = \"\")\n",
    "    print(\"\")\n",
    "\n",
    "    \n",
    "### declaration of mathematical optimization\n",
    "problem = pulp.LpProblem(\"Problem-2\", pulp.LpMinimize)\n",
    "\n",
    "x = {}\n",
    "for i in I:\n",
    "    for j in J:\n",
    "        x[i, j] = pulp.LpVariable(\"x({}, {})\".format(i, j), 0, 1, pulp.LpInteger)\n",
    "\n",
    "problem += pulp.lpSum(c[i, j] * x[i, j] for i in I for j in J), \"Totalcost\"\n",
    "\n",
    "# declare constraints\n",
    "for i in I:\n",
    "    problem += sum(x[i, j] for j in J) <= 1, \"Constraint_leq_{:}\".format(i)\n",
    "for j in J:\n",
    "    problem += sum(x[i, j] for i in I) == 1, \"constraint_eq_{:}\".format(j)\n",
    "\n",
    "solver = pulp.solvers.PULP_CBC_CMD()\n",
    "\n",
    "time_start = time.clock()\n",
    "\n",
    "result_status = problem.solve(solver)\n",
    "\n",
    "time_stop = time.clock()"
   ]
  },
  {
   "cell_type": "code",
   "execution_count": 33,
   "metadata": {},
   "outputs": [
    {
     "name": "stdout",
     "output_type": "stream",
     "text": [
      "a: 10.0\n",
      "b: 200.0\n",
      "c: 400.0\n"
     ]
    }
   ],
   "source": [
    "# [Python: PuLP で線型計画問題を解く | CUBE SUGAR STORAGE](http://momijiame.tumblr.com/post/109872767881/python-pulp-%E3%81%A7%E7%B7%9A%E5%9E%8B%E8%A8%88%E7%94%BB%E5%95%8F%E9%A1%8C%E3%82%92%E8%A7%A3%E3%81%8F)\n",
    "\n",
    "import pulp\n",
    "\n",
    "def main():\n",
    "    problem = pulp.LpProblem('simulaneous equations')\n",
    "    \n",
    "    a = pulp.LpVariable('a')\n",
    "    b = pulp.LpVariable('b')\n",
    "    c = pulp.LpVariable('c')\n",
    "    \n",
    "    # constraint condition\n",
    "    problem += 10*a + b*2 + c == 900\n",
    "    problem += 5*b + 2*c == 1800\n",
    "    problem += 20*a + 5*c == 2200\n",
    "    \n",
    "    # solve\n",
    "    problem.solve()\n",
    "    \n",
    "    # show result\n",
    "    print('a: {a}'.format(a=a.value()))\n",
    "    print('b: {b}'.format(b=b.value()))\n",
    "    print('c: {c}'.format(c=c.value()))\n",
    "\n",
    "if __name__ == '__main__':\n",
    "    main()"
   ]
  },
  {
   "cell_type": "code",
   "execution_count": 45,
   "metadata": {},
   "outputs": [
    {
     "name": "stdout",
     "output_type": "stream",
     "text": [
      "30.0 50.0\n",
      "27000.0\n"
     ]
    }
   ],
   "source": [
    "import pulp\n",
    "\n",
    "m = pulp.LpProblem(sense=pulp.LpMaximize)\n",
    "x = pulp.LpVariable('x', lowBound=0)\n",
    "y = pulp.LpVariable('y', lowBound=0)\n",
    "\n",
    "m += 400*x + 300*y\n",
    "m += 60*x + 40*y <= 3800\n",
    "m += 20*x + 30*y <= 2100\n",
    "m += 20*x + 10*y <= 1200\n",
    "\n",
    "m.solve()\n",
    "print(pulp.value(x), pulp.value(y))\n",
    "print((400*pulp.value(x)+300*pulp.value(y)))"
   ]
  }
 ],
 "metadata": {
  "kernelspec": {
   "display_name": "Python 3",
   "language": "python",
   "name": "python3"
  },
  "language_info": {
   "codemirror_mode": {
    "name": "ipython",
    "version": 3
   },
   "file_extension": ".py",
   "mimetype": "text/x-python",
   "name": "python",
   "nbconvert_exporter": "python",
   "pygments_lexer": "ipython3",
   "version": "3.6.0"
  }
 },
 "nbformat": 4,
 "nbformat_minor": 2
}
