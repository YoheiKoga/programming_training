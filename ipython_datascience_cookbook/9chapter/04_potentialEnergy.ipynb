{
 "cells": [
  {
   "cell_type": "code",
   "execution_count": 1,
   "metadata": {
    "collapsed": true
   },
   "outputs": [],
   "source": [
    "import numpy as np\n",
    "import scipy.optimize as opt\n",
    "import matplotlib.pyplot as plt\n",
    "import seaborn as sns\n",
    "%matplotlib inline\n",
    "\n",
    "custom_style = {'axes.labelcolor': 'black',\n",
    "                'xtick.color': 'black',\n",
    "                'ytick.color': 'black'}\n",
    "sns.set_style(\"darkgrid\", rc=custom_style)"
   ]
  },
  {
   "cell_type": "code",
   "execution_count": 23,
   "metadata": {},
   "outputs": [
    {
     "data": {
      "image/png": "[encoded data removed]",
      "text/plain": [
       "<matplotlib.figure.Figure at 0x115bef278>"
      ]
     },
     "metadata": {},
     "output_type": "display_data"
    }
   ],
   "source": [
    "g = 9.81\n",
    "m = 0.1\n",
    "n = 20\n",
    "e = 0.1\n",
    "l = e\n",
    "k = 10000\n",
    "\n",
    "\n",
    "# define first position of the masses\n",
    "p0 = np.zeros((n, 2))\n",
    "p0[:, 0] = np.repeat(e*np.arange(n//2), 2)\n",
    "p0[:, 1] = np.tile((0, -e), n//2) \n",
    "\n",
    "# define connectivity matrix between the massess\n",
    "A = np.eye(n, n, 1) + np.eye(n, n, 2)\n",
    "\n",
    "# specify the spring stiffness of each spring\n",
    "L = l * (np.eye(n, n, 1) + np.eye(n, n, 2))\n",
    "for i in range(n//2-1):\n",
    "    L[2*i+1, 2*i+2] *= np.sqrt(2)\n",
    "\n",
    "I, J = np.nonzero(A)\n",
    "\n",
    "dist = lambda P: np.sqrt(\n",
    "    (P[:,0] - P[:,0][:, np.newaxis])**2 +\n",
    "    (P[:,1] - P[:,1][:, np.newaxis])**2\n",
    ")\n",
    "\n",
    "def show_bar(P):\n",
    "    # wall\n",
    "    plt.axvline(0, color='k', lw=3)\n",
    "    \n",
    "    # distance matrix\n",
    "    D = dist(P)\n",
    "    \n",
    "    # we plot the springs\n",
    "    for i, j in zip(I, J):\n",
    "        # the color depends on the spring tension\n",
    "        # which is proportional to the spring elongation\n",
    "        c = D[i, j] - L[i, j]\n",
    "        plt.plot(P[[i, j], 0], P[[i, j], 1], lw=2, color=plt.cm.copper(c*150))\n",
    "    \n",
    "    # we plot the masses\n",
    "    plt.plot(P[[I, J], 0], P[[I, J], 1], 'ok',)\n",
    "    \n",
    "    # we configure the axes\n",
    "    plt.axis('equal')\n",
    "    plt.xlim(P[:, 0].min() - e/2, P[:,0].max() + e/2)\n",
    "    plt.ylim(P[:, 1].min() - e/2, P[:,1].max() + e/2)\n",
    "    plt.xticks([])\n",
    "    plt.yticks([])\n",
    "        \n",
    "        \n",
    "show_bar(p0)\n",
    "plt.title(\"initial configuration\")"
   ]
  },
  {
   "cell_type": "code",
   "execution_count": 17,
   "metadata": {},
   "outputs": [
    {
     "data": {
      "text/plain": [
       "array([ 0. , -0.1,  0. , -0.1,  0. , -0.1,  0. , -0.1,  0. , -0.1,  0. ,\n",
       "       -0.1,  0. , -0.1,  0. , -0.1,  0. , -0.1,  0. , -0.1])"
      ]
     },
     "execution_count": 17,
     "metadata": {},
     "output_type": "execute_result"
    }
   ],
   "source": [
    "np.tile((0, -e), n//2) "
   ]
  }
 ],
 "metadata": {
  "kernelspec": {
   "display_name": "Python 3",
   "language": "python",
   "name": "python3"
  },
  "language_info": {
   "codemirror_mode": {
    "name": "ipython",
    "version": 3
   },
   "file_extension": ".py",
   "mimetype": "text/x-python",
   "name": "python",
   "nbconvert_exporter": "python",
   "pygments_lexer": "ipython3",
   "version": "3.6.0"
  }
 },
 "nbformat": 4,
 "nbformat_minor": 2
}
