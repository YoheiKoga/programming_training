{
 "cells": [
  {
   "cell_type": "code",
   "execution_count": 1,
   "metadata": {
    "collapsed": true
   },
   "outputs": [],
   "source": [
    "import numpy as np"
   ]
  },
  {
   "cell_type": "code",
   "execution_count": 2,
   "metadata": {
    "collapsed": true
   },
   "outputs": [],
   "source": [
    "%load_ext memory_profiler"
   ]
  },
  {
   "cell_type": "code",
   "execution_count": 3,
   "metadata": {
    "collapsed": false
   },
   "outputs": [
    {
     "name": "stdout",
     "output_type": "stream",
     "text": [
      "Overwriting simulation.py\n"
     ]
    }
   ],
   "source": [
    "%%writefile simulation.py\n",
    "import numpy as np\n",
    "\n",
    "def step(*shape):\n",
    "    return 2 * (np.random.random_sample(shape) <.5) - 1\n",
    "\n",
    "def simulate(iterations, n=10000):\n",
    "    s = step(iterations, n)\n",
    "    x = np.cumsum(s, axis=0)\n",
    "    bins = np.cumsum(s, axis=0)\n",
    "    bins = np.arange(-30, 30, 1)\n",
    "    y = np.vstack([np.histogram(x[i,:], bins)[0] for i in range(iterations)])\n",
    "    return y"
   ]
  },
  {
   "cell_type": "code",
   "execution_count": 5,
   "metadata": {
    "collapsed": true
   },
   "outputs": [],
   "source": [
    "import simulation"
   ]
  },
  {
   "cell_type": "code",
   "execution_count": 6,
   "metadata": {
    "collapsed": false
   },
   "outputs": [
    {
     "name": "stdout",
     "output_type": "stream",
     "text": [
      "\n",
      "\n",
      "*** Profile printout saved to text file mprof0. \n"
     ]
    }
   ],
   "source": [
    "%mprun -T mprof0 -f simulation.simulate simulation.simulate(50)"
   ]
  },
  {
   "cell_type": "code",
   "execution_count": 7,
   "metadata": {
    "collapsed": false
   },
   "outputs": [
    {
     "name": "stdout",
     "output_type": "stream",
     "text": [
      "Filename: /Users/yk/programming/python/jupyternotebook/ipython_datascience_cookbook/chapter4/simulation.py\n",
      "\n",
      "Line #    Mem usage    Increment   Line Contents\n",
      "================================================\n",
      "     6     49.1 MiB      0.0 MiB   def simulate(iterations, n=10000):\n",
      "     7     56.9 MiB      7.8 MiB       s = step(iterations, n)\n",
      "     8     56.9 MiB      0.0 MiB       x = np.cumsum(s, axis=0)\n",
      "     9     60.7 MiB      3.8 MiB       bins = np.cumsum(s, axis=0)\n",
      "    10     60.7 MiB      0.0 MiB       bins = np.arange(-30, 30, 1)\n",
      "    11     61.0 MiB      0.3 MiB       y = np.vstack([np.histogram(x[i,:], bins)[0] for i in range(iterations)])\n",
      "    12     61.0 MiB      0.0 MiB       return y\n"
     ]
    }
   ],
   "source": [
    "print(open('mprof0', 'r').read())"
   ]
  },
  {
   "cell_type": "code",
   "execution_count": 8,
   "metadata": {
    "collapsed": false
   },
   "outputs": [
    {
     "name": "stdout",
     "output_type": "stream",
     "text": [
      "\n",
      "\n",
      "*** Profile printout saved to text file mprof1. \n"
     ]
    }
   ],
   "source": [
    "%mprun -T mprof1 -f simulation.simulate simulation.simulate(iterations=500)"
   ]
  },
  {
   "cell_type": "code",
   "execution_count": 9,
   "metadata": {
    "collapsed": false
   },
   "outputs": [
    {
     "name": "stdout",
     "output_type": "stream",
     "text": [
      "Filename: /Users/yk/programming/python/jupyternotebook/ipython_datascience_cookbook/chapter4/simulation.py\n",
      "\n",
      "Line #    Mem usage    Increment   Line Contents\n",
      "================================================\n",
      "     6     61.1 MiB      0.0 MiB   def simulate(iterations, n=10000):\n",
      "     7    142.2 MiB     81.1 MiB       s = step(iterations, n)\n",
      "     8    142.2 MiB      0.0 MiB       x = np.cumsum(s, axis=0)\n",
      "     9    180.3 MiB     38.1 MiB       bins = np.cumsum(s, axis=0)\n",
      "    10    180.3 MiB      0.0 MiB       bins = np.arange(-30, 30, 1)\n",
      "    11    180.9 MiB      0.6 MiB       y = np.vstack([np.histogram(x[i,:], bins)[0] for i in range(iterations)])\n",
      "    12    180.9 MiB      0.0 MiB       return y\n"
     ]
    }
   ],
   "source": [
    "print(open('mprof1', 'r').read())"
   ]
  },
  {
   "cell_type": "code",
   "execution_count": null,
   "metadata": {
    "collapsed": true
   },
   "outputs": [],
   "source": []
  }
 ],
 "metadata": {
  "kernelspec": {
   "display_name": "Python 3",
   "language": "python",
   "name": "python3"
  },
  "language_info": {
   "codemirror_mode": {
    "name": "ipython",
    "version": 3
   },
   "file_extension": ".py",
   "mimetype": "text/x-python",
   "name": "python",
   "nbconvert_exporter": "python",
   "pygments_lexer": "ipython3",
   "version": "3.6.0"
  }
 },
 "nbformat": 4,
 "nbformat_minor": 2
}
