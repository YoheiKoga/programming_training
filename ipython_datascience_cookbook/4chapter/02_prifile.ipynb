{
 "cells": [
  {
   "cell_type": "code",
   "execution_count": 1,
   "metadata": {
    "collapsed": true
   },
   "outputs": [],
   "source": [
    "import numpy as np\n",
    "import matplotlib.pyplot as plt\n",
    "%matplotlib inline"
   ]
  },
  {
   "cell_type": "code",
   "execution_count": 15,
   "metadata": {
    "collapsed": true
   },
   "outputs": [],
   "source": [
    "def step(*shape):\n",
    "    # create a random n-vector with +1 or -1 values\n",
    "    return 2 * (np.random.random_sample(shape) <.5) -1"
   ]
  },
  {
   "cell_type": "code",
   "execution_count": 20,
   "metadata": {
    "collapsed": false
   },
   "outputs": [
    {
     "name": "stdout",
     "output_type": "stream",
     "text": [
      " \n",
      "*** Profile printout saved to text file 'prun0'. \n"
     ]
    }
   ],
   "source": [
    "%%prun -s cumulative -q -l 10 -T prun0\n",
    "\n",
    "# we profile the cell, sort the report by \"cumulative time\"\n",
    "# limit it to 10 lines, and save it to a file \"prun0\".\n",
    "n = 10000\n",
    "iterations = 500\n",
    "x = np.cumsum(step(iterations, n), axis=0)\n",
    "bins = np.arange(-30, 30, 1)\n",
    "y = np.vstack([np.histogram(x[i,:], bins)[0] for i in range(iterations)])"
   ]
  },
  {
   "cell_type": "code",
   "execution_count": 21,
   "metadata": {
    "collapsed": false
   },
   "outputs": [
    {
     "name": "stdout",
     "output_type": "stream",
     "text": [
      "         39014 function calls in 0.337 seconds\n",
      "\n",
      "   Ordered by: cumulative time\n",
      "   List reduced from 49 to 10 due to restriction <10>\n",
      "\n",
      "   ncalls  tottime  percall  cumtime  percall filename:lineno(function)\n",
      "        1    0.000    0.000    0.337    0.337 {built-in method builtins.exec}\n",
      "        1    0.005    0.005    0.336    0.336 <string>:5(<module>)\n",
      "        1    0.001    0.001    0.179    0.179 <string>:9(<listcomp>)\n",
      "      500    0.017    0.000    0.178    0.000 function_base.py:431(histogram)\n",
      "        1    0.044    0.044    0.114    0.114 <ipython-input-15-62f61c8c29d2>:1(step)\n",
      "      500    0.001    0.000    0.111    0.000 fromnumeric.py:709(sort)\n",
      "      500    0.107    0.000    0.107    0.000 {method 'sort' of 'numpy.ndarray' objects}\n",
      "        1    0.070    0.070    0.070    0.070 {method 'random_sample' of 'mtrand.RandomState' objects}\n",
      "        1    0.000    0.000    0.037    0.037 fromnumeric.py:2033(cumsum)\n",
      "        1    0.000    0.000    0.037    0.037 fromnumeric.py:55(_wrapfunc)\n"
     ]
    }
   ],
   "source": [
    "print(open('prun0', 'r').read())"
   ]
  },
  {
   "cell_type": "code",
   "execution_count": 23,
   "metadata": {
    "collapsed": false
   },
   "outputs": [
    {
     "data": {
      "image/png": "[encoded data removed]",
      "text/plain": [
       "<matplotlib.figure.Figure at 0x115fac128>"
      ]
     },
     "metadata": {},
     "output_type": "display_data"
    }
   ],
   "source": [
    "plt.figure(figsize=(6,6));\n",
    "plt.imshow(y, cmap='hot');"
   ]
  },
  {
   "cell_type": "code",
   "execution_count": 24,
   "metadata": {
    "collapsed": false
   },
   "outputs": [
    {
     "name": "stdout",
     "output_type": "stream",
     "text": [
      " \n",
      "*** Profile printout saved to text file 'prun1'. \n"
     ]
    }
   ],
   "source": [
    "%%prun -s cumulative -q -l 10 -T prun1\n",
    "n = 10000\n",
    "iterations = 500\n",
    "x = np.cumsum(step(iterations, n), axis=0)\n",
    "bins = np.arange(-30, 30, 1)\n",
    "y = np.vstack([np.histogram(x[i,:], bins)[0] for i in range(iterations)])"
   ]
  },
  {
   "cell_type": "code",
   "execution_count": 25,
   "metadata": {
    "collapsed": false
   },
   "outputs": [
    {
     "name": "stdout",
     "output_type": "stream",
     "text": [
      "         39014 function calls in 0.322 seconds\n",
      "\n",
      "   Ordered by: cumulative time\n",
      "   List reduced from 49 to 10 due to restriction <10>\n",
      "\n",
      "   ncalls  tottime  percall  cumtime  percall filename:lineno(function)\n",
      "        1    0.000    0.000    0.322    0.322 {built-in method builtins.exec}\n",
      "        1    0.011    0.011    0.321    0.321 <string>:2(<module>)\n",
      "        1    0.001    0.001    0.181    0.181 <string>:6(<listcomp>)\n",
      "      500    0.017    0.000    0.179    0.000 function_base.py:431(histogram)\n",
      "      500    0.001    0.000    0.113    0.000 fromnumeric.py:709(sort)\n",
      "      500    0.109    0.000    0.109    0.000 {method 'sort' of 'numpy.ndarray' objects}\n",
      "        1    0.042    0.042    0.098    0.098 <ipython-input-15-62f61c8c29d2>:1(step)\n",
      "        1    0.056    0.056    0.056    0.056 {method 'random_sample' of 'mtrand.RandomState' objects}\n",
      "        1    0.000    0.000    0.031    0.031 fromnumeric.py:2033(cumsum)\n",
      "        1    0.000    0.000    0.031    0.031 fromnumeric.py:55(_wrapfunc)\n"
     ]
    }
   ],
   "source": [
    "print(open('prun1', 'r').read())"
   ]
  }
 ],
 "metadata": {
  "kernelspec": {
   "display_name": "Python 3",
   "language": "python",
   "name": "python3"
  },
  "language_info": {
   "codemirror_mode": {
    "name": "ipython",
    "version": 3
   },
   "file_extension": ".py",
   "mimetype": "text/x-python",
   "name": "python",
   "nbconvert_exporter": "python",
   "pygments_lexer": "ipython3",
   "version": "3.6.0"
  }
 },
 "nbformat": 4,
 "nbformat_minor": 2
}
