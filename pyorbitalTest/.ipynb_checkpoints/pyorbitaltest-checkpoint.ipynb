{
 "cells": [
  {
   "cell_type": "code",
   "execution_count": 45,
   "metadata": {},
   "outputs": [],
   "source": [
    "from pyorbital.orbital import Orbital\n",
    "from pyorbital.tlefile import Tle\n",
    "from datetime import datetime\n",
    "\n",
    "# Satellite name, International Space Station\n",
    "orb = Orbital(\"ISS (ZARYA)\")\n",
    "\n",
    "# Tenjin, Fukuoka City Hall\n",
    "(lat, lon, alt) =  (33.590198, 130.401719, 4.0)\n",
    "\n",
    "# UTC Time now\n",
    "now = datetime.utcnow()\n",
    "\n",
    "# get_next_passes(utc_time, length(within from utc_time), lon, lat, alt, tol=0.001, horizon=0)\n",
    "passTimes = orb.get_next_passes(now, 4, lon, lat, alt, tol=0.001, horizon=0)\n",
    "\n",
    "print(\"next pass time from Fukuoka City Hall(UTC): \", passTimes[0][0].strftime('%Y-%m-%d %H:%M:%S'))"
   ]
  },
  {
   "cell_type": "code",
   "execution_count": 39,
   "metadata": {},
   "outputs": [
    {
     "name": "stdout",
     "output_type": "stream",
     "text": [
      "next pass time from Fukuoka City Hall(UTC):  2019-07-07 14:16:35\n"
     ]
    }
   ],
   "source": []
  },
  {
   "cell_type": "code",
   "execution_count": 41,
   "metadata": {},
   "outputs": [
    {
     "data": {
      "text/plain": [
       "(array([-0.26222376, -1.02614171, -0.11698326]),\n",
       " array([ 0.04205964, -0.01702636,  0.05597161]))"
      ]
     },
     "execution_count": 41,
     "metadata": {},
     "output_type": "execute_result"
    }
   ],
   "source": [
    "orb.get_position(now, normalize=True)"
   ]
  },
  {
   "cell_type": "code",
   "execution_count": 40,
   "metadata": {},
   "outputs": [
    {
     "data": {
      "text/plain": [
       "(134.40116905369857, -21.879756620396485)"
      ]
     },
     "execution_count": 40,
     "metadata": {},
     "output_type": "execute_result"
    }
   ],
   "source": [
    "orb.get_observer_look(now, lon, lat, alt)"
   ]
  },
  {
   "cell_type": "code",
   "execution_count": 46,
   "metadata": {},
   "outputs": [],
   "source": [
    "tlefile = Tle(\"ISS (ZARYA)\")"
   ]
  },
  {
   "cell_type": "code",
   "execution_count": 44,
   "metadata": {},
   "outputs": [
    {
     "name": "stdout",
     "output_type": "stream",
     "text": [
      "{'arg_perigee': 115.2183,\n",
      " 'bstar': 2.6459e-05,\n",
      " 'classification': 'U',\n",
      " 'element_number': 999,\n",
      " 'ephemeris_type': 0,\n",
      " 'epoch': numpy.datetime64('2019-07-07T08:24:09.617184'),\n",
      " 'epoch_day': 188.35011131,\n",
      " 'epoch_year': '19',\n",
      " 'excentricity': 0.0007187,\n",
      " 'id_launch_number': '067',\n",
      " 'id_launch_piece': 'A  ',\n",
      " 'id_launch_year': '98',\n",
      " 'inclination': 51.6438,\n",
      " 'mean_anomaly': 334.7816,\n",
      " 'mean_motion': 15.50962949,\n",
      " 'mean_motion_derivative': 1.099e-05,\n",
      " 'mean_motion_sec_derivative': 0.0,\n",
      " 'orbit': 17838,\n",
      " 'right_ascension': 261.2359,\n",
      " 'satnumber': '25544'}\n"
     ]
    }
   ],
   "source": [
    "print(tlefile)"
   ]
  },
  {
   "cell_type": "code",
   "execution_count": null,
   "metadata": {},
   "outputs": [],
   "source": []
  }
 ],
 "metadata": {
  "kernelspec": {
   "display_name": "Python 3",
   "language": "python",
   "name": "python3"
  },
  "language_info": {
   "codemirror_mode": {
    "name": "ipython",
    "version": 3
   },
   "file_extension": ".py",
   "mimetype": "text/x-python",
   "name": "python",
   "nbconvert_exporter": "python",
   "pygments_lexer": "ipython3",
   "version": "3.7.0"
  }
 },
 "nbformat": 4,
 "nbformat_minor": 2
}
